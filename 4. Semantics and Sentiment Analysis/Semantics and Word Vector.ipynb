{
 "cells": [
  {
   "cell_type": "code",
   "execution_count": 1,
   "id": "ab24af55",
   "metadata": {},
   "outputs": [],
   "source": [
    "import spacy"
   ]
  },
  {
   "cell_type": "code",
   "execution_count": 2,
   "id": "ffe8e596",
   "metadata": {},
   "outputs": [],
   "source": [
    "nlp = spacy.load(\"en_core_web_lg\")"
   ]
  },
  {
   "cell_type": "code",
   "execution_count": 3,
   "id": "9d0e1d5b",
   "metadata": {},
   "outputs": [
    {
     "data": {
      "text/plain": [
       "array([  0.5694  ,   1.0035  ,  -2.7958  ,  -6.9909  ,  -1.9445  ,\n",
       "         2.1473  ,  -4.3089  ,  -2.5775  ,   3.211   ,   0.2026  ,\n",
       "         3.61    ,  -0.14748 ,  -0.14046 ,   3.6572  ,   1.2354  ,\n",
       "        -3.3686  ,   3.0048  ,   1.7524  ,   1.8261  ,  -1.2081  ,\n",
       "        -1.9235  ,   4.8191  ,  -1.8375  ,  -1.7603  ,   4.0057  ,\n",
       "         1.8352  ,  -4.1953  ,  -2.7654  ,  -1.7696  ,  -1.2704  ,\n",
       "        -5.4059  ,  -0.96859 ,  -6.3199  ,   2.1527  ,   2.6068  ,\n",
       "        -3.8     ,   0.51343 ,   0.89106 ,   1.9419  ,  -5.5536  ,\n",
       "         0.88534 ,   3.4826  ,   4.2362  ,  -1.2694  ,  -1.4549  ,\n",
       "        -2.9767  ,   2.2823  ,  -1.8362  ,   1.7458  ,  -1.502   ,\n",
       "         0.82378 ,   8.3929  ,   0.98416 ,   2.8561  ,  -0.57821 ,\n",
       "        -1.7535  ,   0.11128 ,  -1.538   ,   3.2045  ,  -2.079   ,\n",
       "        -2.0373  ,  -5.8132  ,   0.15822 ,   4.0479  ,  -2.8294  ,\n",
       "        -4.8444  ,  -2.4008  ,  -0.43297 ,  -0.48734 ,  -2.5249  ,\n",
       "         4.7389  ,   1.4059  ,   5.2866  ,  -2.8079  ,   0.77664 ,\n",
       "        -5.2359  ,  -0.73161 ,  -1.6643  ,   1.2815  ,  -1.4259  ,\n",
       "        -0.96835 ,  -1.4728  ,   0.021906,   1.7686  ,  -1.6333  ,\n",
       "        -4.7241  ,   2.0591  ,   1.9797  ,  -2.6611  ,  -2.7598  ,\n",
       "         0.088491,  -4.0345  ,   5.639   ,  -0.12947 ,   0.061225,\n",
       "         1.1251  ,  -0.26311 ,   2.1972  ,   2.2571  ,  -3.831   ,\n",
       "         1.8817  ,  -0.55661 ,   5.4395  ,  -3.2978  ,  -0.97082 ,\n",
       "         1.5987  ,  -1.3428  ,   8.5959  ,  -2.7242  ,  -1.2864  ,\n",
       "        -4.3404  ,   0.31127 ,   3.4769  ,   0.14844 ,   2.9857  ,\n",
       "        -0.22516 ,   5.3585  ,   3.2194  ,   4.9354  ,  -1.7192  ,\n",
       "         0.20811 ,   3.479   ,  -7.8637  ,   2.1017  ,  -3.7722  ,\n",
       "        -1.1342  ,   2.9586  ,   2.1132  ,   4.5913  ,   1.241   ,\n",
       "         3.0977  ,  -3.2404  ,  -3.6048  ,   0.81045 ,   3.6473  ,\n",
       "         3.8514  ,  -1.9249  ,  -1.5917  ,  -5.3876  ,  -1.6032  ,\n",
       "        -8.7351  ,   0.98275 ,  -4.0504  ,  -2.0395  ,  -2.2489  ,\n",
       "         2.8771  ,   1.9438  ,   3.9131  ,  -2.1212  ,   0.51076 ,\n",
       "         0.81675 ,   2.8472  ,   0.20108 ,  -3.2323  ,   1.7691  ,\n",
       "         1.08    ,   3.1357  ,   0.7489  ,   4.0498  ,   4.0452  ,\n",
       "        -0.59298 ,   0.37001 ,   3.4164  ,  -0.20668 ,  -7.4754  ,\n",
       "        -2.1747  ,  -0.9311  ,   4.5206  ,   2.5234  ,  -0.81063 ,\n",
       "        -1.9186  ,   4.9585  ,   1.6442  ,   1.9991  ,  -1.0773  ,\n",
       "        -3.519   ,   2.1343  ,  -2.1212  ,  -4.7889  ,   0.97844 ,\n",
       "        -1.9801  ,  -2.7718  ,  -2.6963  ,   3.6884  ,   3.5639  ,\n",
       "         1.1302  ,   5.9308  ,  -5.1798  ,   0.9566  ,  -2.5734  ,\n",
       "         4.8416  ,   1.5896  ,  -2.7446  ,  -2.2446  ,  -0.02744 ,\n",
       "        -3.1882  ,  -1.5235  ,   3.6224  ,  -2.7083  ,   0.09958 ,\n",
       "         1.4077  ,   0.83376 ,  -0.59532 ,   4.5902  ,  -3.6414  ,\n",
       "         0.96465 ,  -0.60966 ,  -2.229   ,  -1.1081  ,  -1.1659  ,\n",
       "         0.29262 ,   2.8762  ,  -1.3583  ,  -0.43217 ,   0.2571  ,\n",
       "        -0.63243 ,   3.5971  ,   0.30067 ,  -1.4474  ,   0.28485 ,\n",
       "         1.9542  ,  -3.4271  ,   0.7401  ,   6.0268  ,  -4.1064  ,\n",
       "         4.4528  ,   1.3643  ,  -0.72829 ,   4.1162  ,   1.3608  ,\n",
       "         1.4211  ,  -4.9745  ,   2.3609  ,   1.6915  ,  -1.7129  ,\n",
       "         0.066443,  -0.21051 ,  -0.14478 ,  -0.49048 ,   4.167   ,\n",
       "         0.67718 ,  -2.8219  ,   1.4242  ,  -3.4211  ,  -3.6636  ,\n",
       "        -1.4777  ,   2.5206  ,   0.50912 ,  -0.66162 ,   1.9312  ,\n",
       "        -4.1909  ,  -0.75801 ,  -2.5988  ,  -0.38067 ,  -4.2125  ,\n",
       "         0.46262 ,  -2.437   ,  11.524   ,  -0.93279 ,  -1.1296  ,\n",
       "         3.345   ,  -6.1905  ,  -0.74283 ,   1.8886  ,  -7.962   ,\n",
       "         0.61994 ,  -8.5357  ,  -0.97994 ,  -2.6659  ,   1.5324  ,\n",
       "         1.164   ,  -0.45311 ,   3.4668  ,  -1.0413  ,   0.94477 ,\n",
       "        -2.5944  ,  -0.78165 ,  -2.9119  ,  -1.7725  ,   4.4262  ,\n",
       "        -4.2902  ,  -4.2646  ,   4.6125  ,  -1.1481  ,   3.6636  ,\n",
       "         1.5004  ,  -2.0979  ,   1.3639  ,   4.1281  ,  -0.57875 ,\n",
       "        -0.050673,   1.7986  ,   6.7794  ,  -2.5412  ,  -0.40837 ,\n",
       "         3.1715  ,   0.97417 ,   5.3266  , -10.149   ,  -0.31148 ],\n",
       "      dtype=float32)"
      ]
     },
     "execution_count": 3,
     "metadata": {},
     "output_type": "execute_result"
    }
   ],
   "source": [
    "nlp(u'fox').vector"
   ]
  },
  {
   "cell_type": "code",
   "execution_count": 4,
   "id": "6d595f30",
   "metadata": {},
   "outputs": [
    {
     "data": {
      "text/plain": [
       "(300,)"
      ]
     },
     "execution_count": 4,
     "metadata": {},
     "output_type": "execute_result"
    }
   ],
   "source": [
    "nlp(u'fox').vector.shape"
   ]
  },
  {
   "cell_type": "code",
   "execution_count": 8,
   "id": "cc5b4b67",
   "metadata": {},
   "outputs": [
    {
     "name": "stdout",
     "output_type": "stream",
     "text": [
      "lion lion 1.0\n",
      "lion cat 0.3854507803916931\n",
      "lion pet 0.20031584799289703\n",
      "cat lion 0.3854507803916931\n",
      "cat cat 1.0\n",
      "cat pet 0.732966423034668\n",
      "pet lion 0.20031584799289703\n",
      "pet cat 0.732966423034668\n",
      "pet pet 1.0\n"
     ]
    }
   ],
   "source": [
    "token = nlp(u'lion cat pet')\n",
    "for token1 in token:\n",
    "    for token2 in token:\n",
    "        print(token1, token2, token1.similarity(token2))"
   ]
  },
  {
   "cell_type": "code",
   "execution_count": 7,
   "id": "ef67e68d",
   "metadata": {},
   "outputs": [
    {
     "name": "stdout",
     "output_type": "stream",
     "text": [
      "like like 1.0\n",
      "like love 0.5212638974189758\n",
      "like hate 0.5065140724182129\n",
      "love like 0.5212638974189758\n",
      "love love 1.0\n",
      "love hate 0.5708349943161011\n",
      "hate like 0.5065140724182129\n",
      "hate love 0.5708349943161011\n",
      "hate hate 1.0\n"
     ]
    }
   ],
   "source": [
    "token = nlp(u'like love hate')\n",
    "for token1 in token:\n",
    "    for token2 in token:\n",
    "        print(token1, token2, token1.similarity(token2))"
   ]
  },
  {
   "cell_type": "code",
   "execution_count": 10,
   "id": "629ed065",
   "metadata": {},
   "outputs": [
    {
     "data": {
      "text/plain": [
       "(514157, 300)"
      ]
     },
     "execution_count": 10,
     "metadata": {},
     "output_type": "execute_result"
    }
   ],
   "source": [
    "nlp.vocab.vectors.shape"
   ]
  },
  {
   "cell_type": "code",
   "execution_count": 14,
   "id": "c4011df5",
   "metadata": {},
   "outputs": [
    {
     "name": "stdout",
     "output_type": "stream",
     "text": [
      "dog True 75.254234 False\n",
      "cat True 63.188496 False\n",
      "gioge False 0.0 True\n"
     ]
    }
   ],
   "source": [
    "# oov = out of vocab\n",
    "tokens = nlp(u'dog cat gioge')\n",
    "for token in tokens:\n",
    "    print(token, token.has_vector, token.vector_norm, token.is_oov)"
   ]
  },
  {
   "cell_type": "code",
   "execution_count": 15,
   "id": "2a0a60ea",
   "metadata": {},
   "outputs": [],
   "source": [
    "from scipy import spatial"
   ]
  },
  {
   "cell_type": "code",
   "execution_count": 16,
   "id": "ed6ef41e",
   "metadata": {},
   "outputs": [],
   "source": [
    "cosine_similarity = lambda vec1, vec2: 1 - spatial.distance.cosine(vec1, vec2)"
   ]
  },
  {
   "cell_type": "code",
   "execution_count": 45,
   "id": "8dd69699",
   "metadata": {},
   "outputs": [],
   "source": [
    "king = nlp.vocab['king'].vector\n",
    "queen = nlp.vocab['queen'].vector\n",
    "# man = nlp.vocab['man'].vector\n",
    "# woman = nlp.vocab['woman'].vector\n",
    "# dog = nlp.vocab['dog'].vector\n",
    "# cat = nlp.vocab['cat'].vector\n",
    "prince = nlp.vocab['prince'].vector"
   ]
  },
  {
   "cell_type": "code",
   "execution_count": 50,
   "id": "dd9587f9",
   "metadata": {},
   "outputs": [],
   "source": [
    "# new_vector = king-man+woman\n",
    "# new_vector = queen-woman+man\n",
    "new_vector = prince-king+queen"
   ]
  },
  {
   "cell_type": "code",
   "execution_count": 51,
   "id": "c15dd705",
   "metadata": {},
   "outputs": [],
   "source": [
    "computed_similarities = []\n",
    "\n",
    "for word in nlp.vocab:\n",
    "    if word.has_vector:\n",
    "        if word.is_lower:\n",
    "            if word.is_alpha:\n",
    "                similarity = cosine_similarity(new_vector, word.vector)\n",
    "                computed_similarities.append((word, similarity))"
   ]
  },
  {
   "cell_type": "code",
   "execution_count": 52,
   "id": "5218a0d4",
   "metadata": {},
   "outputs": [],
   "source": [
    "computed_similarities = sorted(computed_similarities, key = lambda item: -item[1])"
   ]
  },
  {
   "cell_type": "code",
   "execution_count": 53,
   "id": "869641db",
   "metadata": {},
   "outputs": [
    {
     "name": "stdout",
     "output_type": "stream",
     "text": [
      "['queen', 'prince', 'she', 'woman', 'lovin', 'dare', 'cat', 'fox', 'i', 'he']\n"
     ]
    }
   ],
   "source": [
    "print([t[0].text for t in computed_similarities[:10]])"
   ]
  },
  {
   "cell_type": "code",
   "execution_count": null,
   "id": "83a5c9e2",
   "metadata": {},
   "outputs": [],
   "source": []
  }
 ],
 "metadata": {
  "kernelspec": {
   "display_name": "Python 3 (ipykernel)",
   "language": "python",
   "name": "python3"
  },
  "language_info": {
   "codemirror_mode": {
    "name": "ipython",
    "version": 3
   },
   "file_extension": ".py",
   "mimetype": "text/x-python",
   "name": "python",
   "nbconvert_exporter": "python",
   "pygments_lexer": "ipython3",
   "version": "3.11.3"
  }
 },
 "nbformat": 4,
 "nbformat_minor": 5
}
