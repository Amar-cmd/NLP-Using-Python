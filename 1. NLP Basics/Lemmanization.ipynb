{
 "cells": [
  {
   "cell_type": "code",
   "execution_count": 1,
   "id": "9b04c67d",
   "metadata": {},
   "outputs": [],
   "source": [
    "import spacy"
   ]
  },
  {
   "cell_type": "code",
   "execution_count": 2,
   "id": "49c120fc",
   "metadata": {},
   "outputs": [],
   "source": [
    "nlp = spacy.load('en_core_web_sm')"
   ]
  },
  {
   "cell_type": "code",
   "execution_count": 13,
   "id": "b9ce1cef",
   "metadata": {},
   "outputs": [],
   "source": [
    "doc = nlp(u'The runner is running in the race in running shoe')"
   ]
  },
  {
   "cell_type": "code",
   "execution_count": 14,
   "id": "b33abf26",
   "metadata": {},
   "outputs": [
    {
     "name": "stdout",
     "output_type": "stream",
     "text": [
      "The --> the\n",
      "runner --> runner\n",
      "is --> be\n",
      "running --> run\n",
      "in --> in\n",
      "the --> the\n",
      "race --> race\n",
      "in --> in\n",
      "running --> run\n",
      "shoe --> shoe\n"
     ]
    }
   ],
   "source": [
    "for lemm in doc:\n",
    "    print(lemm, '-->', lemm.lemma_)"
   ]
  },
  {
   "cell_type": "code",
   "execution_count": null,
   "id": "4742162e",
   "metadata": {},
   "outputs": [],
   "source": []
  }
 ],
 "metadata": {
  "kernelspec": {
   "display_name": "Python 3 (ipykernel)",
   "language": "python",
   "name": "python3"
  },
  "language_info": {
   "codemirror_mode": {
    "name": "ipython",
    "version": 3
   },
   "file_extension": ".py",
   "mimetype": "text/x-python",
   "name": "python",
   "nbconvert_exporter": "python",
   "pygments_lexer": "ipython3",
   "version": "3.11.3"
  }
 },
 "nbformat": 4,
 "nbformat_minor": 5
}
