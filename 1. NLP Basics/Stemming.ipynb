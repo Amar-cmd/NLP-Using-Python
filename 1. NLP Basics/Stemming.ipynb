{
 "cells": [
  {
   "cell_type": "code",
   "execution_count": 1,
   "id": "027c11d0",
   "metadata": {},
   "outputs": [],
   "source": [
    "import nltk"
   ]
  },
  {
   "cell_type": "code",
   "execution_count": 2,
   "id": "722d788e",
   "metadata": {},
   "outputs": [],
   "source": [
    "from nltk.stem.porter import PorterStemmer"
   ]
  },
  {
   "cell_type": "code",
   "execution_count": 3,
   "id": "35ec8098",
   "metadata": {},
   "outputs": [],
   "source": [
    "p_stemmer = PorterStemmer()"
   ]
  },
  {
   "cell_type": "code",
   "execution_count": 7,
   "id": "fccd0dc2",
   "metadata": {},
   "outputs": [],
   "source": [
    "words = ['action', 'actions', 'dance', 'dancing', 'dancer', 'running', 'ran', 'runner', 'sad', 'sadist', 'fairy']"
   ]
  },
  {
   "cell_type": "code",
   "execution_count": 8,
   "id": "07467562",
   "metadata": {},
   "outputs": [
    {
     "name": "stdout",
     "output_type": "stream",
     "text": [
      "action---> action\n",
      "actions---> action\n",
      "dance---> danc\n",
      "dancing---> danc\n",
      "dancer---> dancer\n",
      "running---> run\n",
      "ran---> ran\n",
      "runner---> runner\n",
      "sad---> sad\n",
      "sadist---> sadist\n",
      "fairy---> fairi\n"
     ]
    }
   ],
   "source": [
    "for word in words:\n",
    "    print(word + '---> '+ p_stemmer.stem(word))"
   ]
  },
  {
   "cell_type": "code",
   "execution_count": 9,
   "id": "a0bd24a3",
   "metadata": {},
   "outputs": [],
   "source": [
    "from nltk.stem.snowball import SnowballStemmer"
   ]
  },
  {
   "cell_type": "code",
   "execution_count": 11,
   "id": "49de2ce4",
   "metadata": {},
   "outputs": [],
   "source": [
    "s_stemmer = SnowballStemmer(language='english')"
   ]
  },
  {
   "cell_type": "code",
   "execution_count": 14,
   "id": "d7ab053f",
   "metadata": {},
   "outputs": [
    {
     "name": "stdout",
     "output_type": "stream",
     "text": [
      "word --->  (Porter) --- (Snowball)\n",
      "action---> action--- action\n",
      "actions---> action--- action\n",
      "dance---> danc--- danc\n",
      "dancing---> danc--- danc\n",
      "dancer---> dancer--- dancer\n",
      "running---> run--- run\n",
      "ran---> ran--- ran\n",
      "runner---> runner--- runner\n",
      "sad---> sad--- sad\n",
      "sadist---> sadist--- sadist\n",
      "fairy---> fairi--- fairi\n"
     ]
    }
   ],
   "source": [
    "print('word --->  (Porter) --- (Snowball)')\n",
    "for word in words:\n",
    "    print(word + '---> '+ p_stemmer.stem(word) + '--- '+s_stemmer.stem(word))"
   ]
  },
  {
   "cell_type": "code",
   "execution_count": null,
   "id": "d00ce979",
   "metadata": {},
   "outputs": [],
   "source": []
  }
 ],
 "metadata": {
  "kernelspec": {
   "display_name": "Python 3 (ipykernel)",
   "language": "python",
   "name": "python3"
  },
  "language_info": {
   "codemirror_mode": {
    "name": "ipython",
    "version": 3
   },
   "file_extension": ".py",
   "mimetype": "text/x-python",
   "name": "python",
   "nbconvert_exporter": "python",
   "pygments_lexer": "ipython3",
   "version": "3.11.3"
  }
 },
 "nbformat": 4,
 "nbformat_minor": 5
}
