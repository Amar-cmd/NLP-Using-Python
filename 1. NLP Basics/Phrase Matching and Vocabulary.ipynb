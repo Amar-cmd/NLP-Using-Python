{
 "cells": [
  {
   "cell_type": "code",
   "execution_count": 6,
   "id": "29cc2654",
   "metadata": {},
   "outputs": [],
   "source": [
    "import spacy\n",
    "nlp = spacy.load('en_core_web_sm')"
   ]
  },
  {
   "cell_type": "code",
   "execution_count": 7,
   "id": "3fb5295c",
   "metadata": {},
   "outputs": [],
   "source": [
    "from spacy.matcher import Matcher"
   ]
  },
  {
   "cell_type": "code",
   "execution_count": 14,
   "id": "af97bda7",
   "metadata": {},
   "outputs": [],
   "source": [
    "matcher = Matcher(nlp.vocab)"
   ]
  },
  {
   "cell_type": "code",
   "execution_count": 15,
   "id": "160ba457",
   "metadata": {},
   "outputs": [],
   "source": [
    "pattern1 = [{'LOWER':'solarpower'}]\n",
    "pattern2 = [{'LOWER':'solar'},{'IS_PUNCT':True}, {'LOWER':'power'}]\n",
    "pattern3 = [{'LOWER':'solar'},{'LOWER':'power'}]"
   ]
  },
  {
   "cell_type": "code",
   "execution_count": 19,
   "id": "6cb72cb5",
   "metadata": {},
   "outputs": [],
   "source": [
    "matcher.add('SolarPower', [pattern1, pattern2, pattern3])"
   ]
  },
  {
   "cell_type": "code",
   "execution_count": 20,
   "id": "5adbaf9b",
   "metadata": {},
   "outputs": [],
   "source": [
    "doc = nlp(u'The SolarPower industry is making solar-power')"
   ]
  },
  {
   "cell_type": "code",
   "execution_count": 25,
   "id": "18da8906",
   "metadata": {},
   "outputs": [
    {
     "name": "stderr",
     "output_type": "stream",
     "text": [
      "C:\\Users\\ACER\\AppData\\Local\\Temp\\ipykernel_10472\\265976178.py:1: UserWarning: [W036] The component 'matcher' does not have any patterns defined.\n",
      "  found = matcher(doc)\n"
     ]
    }
   ],
   "source": [
    "found = matcher(doc)"
   ]
  },
  {
   "cell_type": "code",
   "execution_count": 26,
   "id": "080fb2ee",
   "metadata": {},
   "outputs": [
    {
     "name": "stdout",
     "output_type": "stream",
     "text": [
      "[]\n"
     ]
    }
   ],
   "source": [
    "print(found)"
   ]
  },
  {
   "cell_type": "code",
   "execution_count": 27,
   "id": "5b11f93f",
   "metadata": {},
   "outputs": [
    {
     "ename": "ValueError",
     "evalue": "[E175] Can't remove rule for unknown match pattern ID: SolarPower",
     "output_type": "error",
     "traceback": [
      "\u001b[1;31m---------------------------------------------------------------------------\u001b[0m",
      "\u001b[1;31mValueError\u001b[0m                                Traceback (most recent call last)",
      "Cell \u001b[1;32mIn[27], line 1\u001b[0m\n\u001b[1;32m----> 1\u001b[0m \u001b[43mmatcher\u001b[49m\u001b[38;5;241;43m.\u001b[39;49m\u001b[43mremove\u001b[49m\u001b[43m(\u001b[49m\u001b[38;5;124;43m'\u001b[39;49m\u001b[38;5;124;43mSolarPower\u001b[39;49m\u001b[38;5;124;43m'\u001b[39;49m\u001b[43m)\u001b[49m\n",
      "File \u001b[1;32mC:\\Python311\\Lib\\site-packages\\spacy\\matcher\\matcher.pyx:164\u001b[0m, in \u001b[0;36mspacy.matcher.matcher.Matcher.remove\u001b[1;34m()\u001b[0m\n",
      "\u001b[1;31mValueError\u001b[0m: [E175] Can't remove rule for unknown match pattern ID: SolarPower"
     ]
    }
   ],
   "source": [
    "matcher.remove('SolarPower')"
   ]
  },
  {
   "cell_type": "code",
   "execution_count": 28,
   "id": "bdf9cfe2",
   "metadata": {},
   "outputs": [],
   "source": [
    "pattern1 = [{'LOWER':'solarpower'}]\n",
    "pattern2 = [{'LOWER':'solar'},{'IS_PUNCT':True, 'OP':'*'}, {'LOWER':'power'}]"
   ]
  },
  {
   "cell_type": "code",
   "execution_count": 29,
   "id": "77208266",
   "metadata": {},
   "outputs": [],
   "source": [
    "matcher.add('SolarPower', [pattern1, pattern2])"
   ]
  },
  {
   "cell_type": "code",
   "execution_count": 30,
   "id": "31461951",
   "metadata": {},
   "outputs": [],
   "source": [
    "doc = nlp(u'The SolarPower industry is making solar--power')"
   ]
  },
  {
   "cell_type": "code",
   "execution_count": 31,
   "id": "5accdea3",
   "metadata": {},
   "outputs": [],
   "source": [
    "found = matcher(doc)"
   ]
  },
  {
   "cell_type": "code",
   "execution_count": 32,
   "id": "b7917e6b",
   "metadata": {},
   "outputs": [
    {
     "name": "stdout",
     "output_type": "stream",
     "text": [
      "[(8656102463236116519, 1, 2), (8656102463236116519, 5, 8)]\n"
     ]
    }
   ],
   "source": [
    "print(found)"
   ]
  },
  {
   "cell_type": "code",
   "execution_count": 40,
   "id": "6a0c2c80",
   "metadata": {},
   "outputs": [
    {
     "name": "stdout",
     "output_type": "stream",
     "text": [
      "SolarPower for corrosponding text  SolarPower\n",
      "solar--power for corrosponding text  SolarPower\n"
     ]
    }
   ],
   "source": [
    "for id, start, end in found:\n",
    "    print(doc[start:end], 'for corrosponding text ', nlp.vocab.strings[id])"
   ]
  },
  {
   "cell_type": "code",
   "execution_count": null,
   "id": "a4c94bff",
   "metadata": {},
   "outputs": [],
   "source": []
  }
 ],
 "metadata": {
  "kernelspec": {
   "display_name": "Python 3 (ipykernel)",
   "language": "python",
   "name": "python3"
  },
  "language_info": {
   "codemirror_mode": {
    "name": "ipython",
    "version": 3
   },
   "file_extension": ".py",
   "mimetype": "text/x-python",
   "name": "python",
   "nbconvert_exporter": "python",
   "pygments_lexer": "ipython3",
   "version": "3.11.3"
  }
 },
 "nbformat": 4,
 "nbformat_minor": 5
}
