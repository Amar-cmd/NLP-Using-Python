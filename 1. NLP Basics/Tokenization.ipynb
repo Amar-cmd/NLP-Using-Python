{
 "cells": [
  {
   "cell_type": "code",
   "execution_count": 1,
   "id": "1b38ab85",
   "metadata": {},
   "outputs": [],
   "source": [
    "import spacy"
   ]
  },
  {
   "cell_type": "code",
   "execution_count": 2,
   "id": "d800763c",
   "metadata": {},
   "outputs": [],
   "source": [
    "nlp = spacy.load('en_core_web_sm')"
   ]
  },
  {
   "cell_type": "code",
   "execution_count": 3,
   "id": "5e6ec6cf",
   "metadata": {},
   "outputs": [],
   "source": [
    "doc = nlp(u'Tesla is looking at buying a U.S. startup for $6 Million')"
   ]
  },
  {
   "cell_type": "code",
   "execution_count": 4,
   "id": "2f081361",
   "metadata": {},
   "outputs": [
    {
     "name": "stdout",
     "output_type": "stream",
     "text": [
      "Tesla = PROPN\n",
      "is = AUX\n",
      "looking = VERB\n",
      "at = ADP\n",
      "buying = VERB\n",
      "a = DET\n",
      "U.S. = PROPN\n",
      "startup = NOUN\n",
      "for = ADP\n",
      "$ = SYM\n",
      "6 = NUM\n",
      "Million = NUM\n"
     ]
    }
   ],
   "source": [
    "for token in doc:\n",
    "    print(token.text+' = '+token.pos_)"
   ]
  },
  {
   "cell_type": "code",
   "execution_count": 5,
   "id": "2daca0be",
   "metadata": {},
   "outputs": [
    {
     "data": {
      "text/plain": [
       "[('tok2vec', <spacy.pipeline.tok2vec.Tok2Vec at 0x1b0c44abf50>),\n",
       " ('tagger', <spacy.pipeline.tagger.Tagger at 0x1b0c3efa030>),\n",
       " ('parser', <spacy.pipeline.dep_parser.DependencyParser at 0x1b0ccc23bc0>),\n",
       " ('attribute_ruler',\n",
       "  <spacy.pipeline.attributeruler.AttributeRuler at 0x1b0c31f8dd0>),\n",
       " ('lemmatizer', <spacy.lang.en.lemmatizer.EnglishLemmatizer at 0x1b0cceb0a90>),\n",
       " ('ner', <spacy.pipeline.ner.EntityRecognizer at 0x1b0ccc8c430>)]"
      ]
     },
     "execution_count": 5,
     "metadata": {},
     "output_type": "execute_result"
    }
   ],
   "source": [
    "nlp.pipeline"
   ]
  },
  {
   "cell_type": "code",
   "execution_count": 6,
   "id": "d50644a9",
   "metadata": {},
   "outputs": [
    {
     "data": {
      "text/plain": [
       "['tok2vec', 'tagger', 'parser', 'attribute_ruler', 'lemmatizer', 'ner']"
      ]
     },
     "execution_count": 6,
     "metadata": {},
     "output_type": "execute_result"
    }
   ],
   "source": [
    "nlp.pipe_names"
   ]
  },
  {
   "cell_type": "code",
   "execution_count": 7,
   "id": "a34b0b89",
   "metadata": {},
   "outputs": [
    {
     "data": {
      "text/plain": [
       "'Tesla'"
      ]
     },
     "execution_count": 7,
     "metadata": {},
     "output_type": "execute_result"
    }
   ],
   "source": [
    "doc[0].text"
   ]
  },
  {
   "cell_type": "code",
   "execution_count": 8,
   "id": "52ab82da",
   "metadata": {},
   "outputs": [
    {
     "data": {
      "text/plain": [
       "'Tesla'"
      ]
     },
     "execution_count": 8,
     "metadata": {},
     "output_type": "execute_result"
    }
   ],
   "source": [
    "doc[0].lemma_"
   ]
  },
  {
   "cell_type": "code",
   "execution_count": 9,
   "id": "fce84b63",
   "metadata": {},
   "outputs": [
    {
     "data": {
      "text/plain": [
       "'PROPN'"
      ]
     },
     "execution_count": 9,
     "metadata": {},
     "output_type": "execute_result"
    }
   ],
   "source": [
    "doc[0].pos_"
   ]
  },
  {
   "cell_type": "code",
   "execution_count": 10,
   "id": "d91d7f14",
   "metadata": {},
   "outputs": [
    {
     "data": {
      "text/plain": [
       "'NNP'"
      ]
     },
     "execution_count": 10,
     "metadata": {},
     "output_type": "execute_result"
    }
   ],
   "source": [
    "doc[0].tag_"
   ]
  },
  {
   "cell_type": "code",
   "execution_count": 11,
   "id": "8b42faf2",
   "metadata": {},
   "outputs": [
    {
     "data": {
      "text/plain": [
       "'Xxxxx'"
      ]
     },
     "execution_count": 11,
     "metadata": {},
     "output_type": "execute_result"
    }
   ],
   "source": [
    "doc[0].shape_"
   ]
  },
  {
   "cell_type": "code",
   "execution_count": 12,
   "id": "54669824",
   "metadata": {},
   "outputs": [
    {
     "data": {
      "text/plain": [
       "True"
      ]
     },
     "execution_count": 12,
     "metadata": {},
     "output_type": "execute_result"
    }
   ],
   "source": [
    "doc[0].is_alpha"
   ]
  },
  {
   "cell_type": "code",
   "execution_count": 13,
   "id": "371144ba",
   "metadata": {},
   "outputs": [
    {
     "data": {
      "text/plain": [
       "False"
      ]
     },
     "execution_count": 13,
     "metadata": {},
     "output_type": "execute_result"
    }
   ],
   "source": [
    "doc[0].is_stop"
   ]
  },
  {
   "cell_type": "code",
   "execution_count": 14,
   "id": "fff94355",
   "metadata": {},
   "outputs": [],
   "source": [
    "doc2 = nlp(u'This is first sentence. This is second sentence. This is third sentence.')"
   ]
  },
  {
   "cell_type": "code",
   "execution_count": 15,
   "id": "2c980a32",
   "metadata": {},
   "outputs": [
    {
     "name": "stdout",
     "output_type": "stream",
     "text": [
      "This is first sentence.\n",
      "This is second sentence.\n",
      "This is third sentence.\n"
     ]
    }
   ],
   "source": [
    "for sentence in doc2.sents:\n",
    "    print(sentence)"
   ]
  },
  {
   "cell_type": "code",
   "execution_count": 49,
   "id": "33a3cc63",
   "metadata": {},
   "outputs": [],
   "source": [
    "doc2 = nlp(u'Steve jobs, founder of apple was eating an 10 apples at the apple last month while listening music on iPods.')"
   ]
  },
  {
   "cell_type": "code",
   "execution_count": 30,
   "id": "6c8dc903",
   "metadata": {},
   "outputs": [
    {
     "name": "stdout",
     "output_type": "stream",
     "text": [
      "Steve PERSON | People, including fictional | \n",
      "\n",
      "apple ORG | Companies, agencies, institutions, etc. | \n",
      "\n"
     ]
    }
   ],
   "source": [
    "for token in doc2.ents:\n",
    "    print(token, token.label_, end=' | ')\n",
    "    print(str(spacy.explain(token.label_)), end=' | ')\n",
    "    print('\\n')\n"
   ]
  },
  {
   "cell_type": "code",
   "execution_count": 31,
   "id": "18e10239",
   "metadata": {},
   "outputs": [],
   "source": [
    "from spacy import displacy"
   ]
  },
  {
   "cell_type": "code",
   "execution_count": 37,
   "id": "f9351341",
   "metadata": {},
   "outputs": [
    {
     "data": {
      "text/html": [
       "<span class=\"tex2jax_ignore\"><svg xmlns=\"http://www.w3.org/2000/svg\" xmlns:xlink=\"http://www.w3.org/1999/xlink\" xml:lang=\"en\" id=\"6f8158186975455ba61f33ab745dd371-0\" class=\"displacy\" width=\"1150\" height=\"287.0\" direction=\"ltr\" style=\"max-width: none; height: 287.0px; color: #000000; background: #ffffff; font-family: Arial; direction: ltr\"><text class=\"displacy-token\" fill=\"currentColor\" text-anchor=\"middle\" y=\"197.0\"><tspan class=\"displacy-word\" fill=\"currentColor\" x=\"50\">Steve</tspan><tspan class=\"displacy-tag\" dy=\"2em\" fill=\"currentColor\" x=\"50\">PROPN</tspan></text><text class=\"displacy-token\" fill=\"currentColor\" text-anchor=\"middle\" y=\"197.0\"><tspan class=\"displacy-word\" fill=\"currentColor\" x=\"150\">jobs,</tspan><tspan class=\"displacy-tag\" dy=\"2em\" fill=\"currentColor\" x=\"150\">NOUN</tspan></text><text class=\"displacy-token\" fill=\"currentColor\" text-anchor=\"middle\" y=\"197.0\"><tspan class=\"displacy-word\" fill=\"currentColor\" x=\"250\">founder</tspan><tspan class=\"displacy-tag\" dy=\"2em\" fill=\"currentColor\" x=\"250\">NOUN</tspan></text><text class=\"displacy-token\" fill=\"currentColor\" text-anchor=\"middle\" y=\"197.0\"><tspan class=\"displacy-word\" fill=\"currentColor\" x=\"350\">of</tspan><tspan class=\"displacy-tag\" dy=\"2em\" fill=\"currentColor\" x=\"350\">ADP</tspan></text><text class=\"displacy-token\" fill=\"currentColor\" text-anchor=\"middle\" y=\"197.0\"><tspan class=\"displacy-word\" fill=\"currentColor\" x=\"450\">apple</tspan><tspan class=\"displacy-tag\" dy=\"2em\" fill=\"currentColor\" x=\"450\">NOUN</tspan></text><text class=\"displacy-token\" fill=\"currentColor\" text-anchor=\"middle\" y=\"197.0\"><tspan class=\"displacy-word\" fill=\"currentColor\" x=\"550\">was</tspan><tspan class=\"displacy-tag\" dy=\"2em\" fill=\"currentColor\" x=\"550\">AUX</tspan></text><text class=\"displacy-token\" fill=\"currentColor\" text-anchor=\"middle\" y=\"197.0\"><tspan class=\"displacy-word\" fill=\"currentColor\" x=\"650\">eating</tspan><tspan class=\"displacy-tag\" dy=\"2em\" fill=\"currentColor\" x=\"650\">VERB</tspan></text><text class=\"displacy-token\" fill=\"currentColor\" text-anchor=\"middle\" y=\"197.0\"><tspan class=\"displacy-word\" fill=\"currentColor\" x=\"750\">an</tspan><tspan class=\"displacy-tag\" dy=\"2em\" fill=\"currentColor\" x=\"750\">DET</tspan></text><text class=\"displacy-token\" fill=\"currentColor\" text-anchor=\"middle\" y=\"197.0\"><tspan class=\"displacy-word\" fill=\"currentColor\" x=\"850\">apple</tspan><tspan class=\"displacy-tag\" dy=\"2em\" fill=\"currentColor\" x=\"850\">NOUN</tspan></text><text class=\"displacy-token\" fill=\"currentColor\" text-anchor=\"middle\" y=\"197.0\"><tspan class=\"displacy-word\" fill=\"currentColor\" x=\"950\">at</tspan><tspan class=\"displacy-tag\" dy=\"2em\" fill=\"currentColor\" x=\"950\">ADP</tspan></text><text class=\"displacy-token\" fill=\"currentColor\" text-anchor=\"middle\" y=\"197.0\"><tspan class=\"displacy-word\" fill=\"currentColor\" x=\"1050\">apple.</tspan><tspan class=\"displacy-tag\" dy=\"2em\" fill=\"currentColor\" x=\"1050\">NOUN</tspan></text><g class=\"displacy-arrow\"><path class=\"displacy-arc\" id=\"arrow-6f8158186975455ba61f33ab745dd371-0-0\" stroke-width=\"2px\" d=\"M70,152.0 C70,102.0 140.0,102.0 140.0,152.0\" fill=\"none\" stroke=\"currentColor\"/><text dy=\"1.25em\" style=\"font-size: 0.8em; letter-spacing: 1px\"><textPath xlink:href=\"#arrow-6f8158186975455ba61f33ab745dd371-0-0\" class=\"displacy-label\" startOffset=\"50%\" side=\"left\" fill=\"currentColor\" text-anchor=\"middle\">compound</textPath></text><path class=\"displacy-arrowhead\" d=\"M70,154.0 L62,142.0 78,142.0\" fill=\"currentColor\"/></g><g class=\"displacy-arrow\"><path class=\"displacy-arc\" id=\"arrow-6f8158186975455ba61f33ab745dd371-0-1\" stroke-width=\"2px\" d=\"M170,152.0 C170,52.0 645.0,52.0 645.0,152.0\" fill=\"none\" stroke=\"currentColor\"/><text dy=\"1.25em\" style=\"font-size: 0.8em; letter-spacing: 1px\"><textPath xlink:href=\"#arrow-6f8158186975455ba61f33ab745dd371-0-1\" class=\"displacy-label\" startOffset=\"50%\" side=\"left\" fill=\"currentColor\" text-anchor=\"middle\">nsubj</textPath></text><path class=\"displacy-arrowhead\" d=\"M170,154.0 L162,142.0 178,142.0\" fill=\"currentColor\"/></g><g class=\"displacy-arrow\"><path class=\"displacy-arc\" id=\"arrow-6f8158186975455ba61f33ab745dd371-0-2\" stroke-width=\"2px\" d=\"M170,152.0 C170,102.0 240.0,102.0 240.0,152.0\" fill=\"none\" stroke=\"currentColor\"/><text dy=\"1.25em\" style=\"font-size: 0.8em; letter-spacing: 1px\"><textPath xlink:href=\"#arrow-6f8158186975455ba61f33ab745dd371-0-2\" class=\"displacy-label\" startOffset=\"50%\" side=\"left\" fill=\"currentColor\" text-anchor=\"middle\">appos</textPath></text><path class=\"displacy-arrowhead\" d=\"M240.0,154.0 L248.0,142.0 232.0,142.0\" fill=\"currentColor\"/></g><g class=\"displacy-arrow\"><path class=\"displacy-arc\" id=\"arrow-6f8158186975455ba61f33ab745dd371-0-3\" stroke-width=\"2px\" d=\"M270,152.0 C270,102.0 340.0,102.0 340.0,152.0\" fill=\"none\" stroke=\"currentColor\"/><text dy=\"1.25em\" style=\"font-size: 0.8em; letter-spacing: 1px\"><textPath xlink:href=\"#arrow-6f8158186975455ba61f33ab745dd371-0-3\" class=\"displacy-label\" startOffset=\"50%\" side=\"left\" fill=\"currentColor\" text-anchor=\"middle\">prep</textPath></text><path class=\"displacy-arrowhead\" d=\"M340.0,154.0 L348.0,142.0 332.0,142.0\" fill=\"currentColor\"/></g><g class=\"displacy-arrow\"><path class=\"displacy-arc\" id=\"arrow-6f8158186975455ba61f33ab745dd371-0-4\" stroke-width=\"2px\" d=\"M370,152.0 C370,102.0 440.0,102.0 440.0,152.0\" fill=\"none\" stroke=\"currentColor\"/><text dy=\"1.25em\" style=\"font-size: 0.8em; letter-spacing: 1px\"><textPath xlink:href=\"#arrow-6f8158186975455ba61f33ab745dd371-0-4\" class=\"displacy-label\" startOffset=\"50%\" side=\"left\" fill=\"currentColor\" text-anchor=\"middle\">pobj</textPath></text><path class=\"displacy-arrowhead\" d=\"M440.0,154.0 L448.0,142.0 432.0,142.0\" fill=\"currentColor\"/></g><g class=\"displacy-arrow\"><path class=\"displacy-arc\" id=\"arrow-6f8158186975455ba61f33ab745dd371-0-5\" stroke-width=\"2px\" d=\"M570,152.0 C570,102.0 640.0,102.0 640.0,152.0\" fill=\"none\" stroke=\"currentColor\"/><text dy=\"1.25em\" style=\"font-size: 0.8em; letter-spacing: 1px\"><textPath xlink:href=\"#arrow-6f8158186975455ba61f33ab745dd371-0-5\" class=\"displacy-label\" startOffset=\"50%\" side=\"left\" fill=\"currentColor\" text-anchor=\"middle\">aux</textPath></text><path class=\"displacy-arrowhead\" d=\"M570,154.0 L562,142.0 578,142.0\" fill=\"currentColor\"/></g><g class=\"displacy-arrow\"><path class=\"displacy-arc\" id=\"arrow-6f8158186975455ba61f33ab745dd371-0-6\" stroke-width=\"2px\" d=\"M770,152.0 C770,102.0 840.0,102.0 840.0,152.0\" fill=\"none\" stroke=\"currentColor\"/><text dy=\"1.25em\" style=\"font-size: 0.8em; letter-spacing: 1px\"><textPath xlink:href=\"#arrow-6f8158186975455ba61f33ab745dd371-0-6\" class=\"displacy-label\" startOffset=\"50%\" side=\"left\" fill=\"currentColor\" text-anchor=\"middle\">det</textPath></text><path class=\"displacy-arrowhead\" d=\"M770,154.0 L762,142.0 778,142.0\" fill=\"currentColor\"/></g><g class=\"displacy-arrow\"><path class=\"displacy-arc\" id=\"arrow-6f8158186975455ba61f33ab745dd371-0-7\" stroke-width=\"2px\" d=\"M670,152.0 C670,52.0 845.0,52.0 845.0,152.0\" fill=\"none\" stroke=\"currentColor\"/><text dy=\"1.25em\" style=\"font-size: 0.8em; letter-spacing: 1px\"><textPath xlink:href=\"#arrow-6f8158186975455ba61f33ab745dd371-0-7\" class=\"displacy-label\" startOffset=\"50%\" side=\"left\" fill=\"currentColor\" text-anchor=\"middle\">dobj</textPath></text><path class=\"displacy-arrowhead\" d=\"M845.0,154.0 L853.0,142.0 837.0,142.0\" fill=\"currentColor\"/></g><g class=\"displacy-arrow\"><path class=\"displacy-arc\" id=\"arrow-6f8158186975455ba61f33ab745dd371-0-8\" stroke-width=\"2px\" d=\"M670,152.0 C670,2.0 950.0,2.0 950.0,152.0\" fill=\"none\" stroke=\"currentColor\"/><text dy=\"1.25em\" style=\"font-size: 0.8em; letter-spacing: 1px\"><textPath xlink:href=\"#arrow-6f8158186975455ba61f33ab745dd371-0-8\" class=\"displacy-label\" startOffset=\"50%\" side=\"left\" fill=\"currentColor\" text-anchor=\"middle\">prep</textPath></text><path class=\"displacy-arrowhead\" d=\"M950.0,154.0 L958.0,142.0 942.0,142.0\" fill=\"currentColor\"/></g><g class=\"displacy-arrow\"><path class=\"displacy-arc\" id=\"arrow-6f8158186975455ba61f33ab745dd371-0-9\" stroke-width=\"2px\" d=\"M970,152.0 C970,102.0 1040.0,102.0 1040.0,152.0\" fill=\"none\" stroke=\"currentColor\"/><text dy=\"1.25em\" style=\"font-size: 0.8em; letter-spacing: 1px\"><textPath xlink:href=\"#arrow-6f8158186975455ba61f33ab745dd371-0-9\" class=\"displacy-label\" startOffset=\"50%\" side=\"left\" fill=\"currentColor\" text-anchor=\"middle\">pobj</textPath></text><path class=\"displacy-arrowhead\" d=\"M1040.0,154.0 L1048.0,142.0 1032.0,142.0\" fill=\"currentColor\"/></g></svg></span>"
      ],
      "text/plain": [
       "<IPython.core.display.HTML object>"
      ]
     },
     "metadata": {},
     "output_type": "display_data"
    }
   ],
   "source": [
    "displacy.render(doc2, style='dep', jupyter=True, minify=True,options={'distance': 100})"
   ]
  },
  {
   "cell_type": "code",
   "execution_count": 50,
   "id": "e8de848b",
   "metadata": {},
   "outputs": [
    {
     "data": {
      "text/html": [
       "<span class=\"tex2jax_ignore\"><div class=\"entities\" style=\"line-height: 2.5; direction: ltr\"><mark class=\"entity\" style=\"background: #aa9cfc; padding: 0.45em 0.6em; margin: 0 0.25em; line-height: 1; border-radius: 0.35em;\">Steve<span style=\"font-size: 0.8em; font-weight: bold; line-height: 1; border-radius: 0.35em; vertical-align: middle; margin-left: 0.5rem\">PERSON</span></mark> jobs, founder of <mark class=\"entity\" style=\"background: #7aecec; padding: 0.45em 0.6em; margin: 0 0.25em; line-height: 1; border-radius: 0.35em;\">apple<span style=\"font-size: 0.8em; font-weight: bold; line-height: 1; border-radius: 0.35em; vertical-align: middle; margin-left: 0.5rem\">ORG</span></mark> was eating an <mark class=\"entity\" style=\"background: #e4e7d2; padding: 0.45em 0.6em; margin: 0 0.25em; line-height: 1; border-radius: 0.35em;\">10<span style=\"font-size: 0.8em; font-weight: bold; line-height: 1; border-radius: 0.35em; vertical-align: middle; margin-left: 0.5rem\">CARDINAL</span></mark> apples at the <mark class=\"entity\" style=\"background: #7aecec; padding: 0.45em 0.6em; margin: 0 0.25em; line-height: 1; border-radius: 0.35em;\">apple<span style=\"font-size: 0.8em; font-weight: bold; line-height: 1; border-radius: 0.35em; vertical-align: middle; margin-left: 0.5rem\">ORG</span></mark> <mark class=\"entity\" style=\"background: #bfe1d9; padding: 0.45em 0.6em; margin: 0 0.25em; line-height: 1; border-radius: 0.35em;\">last month<span style=\"font-size: 0.8em; font-weight: bold; line-height: 1; border-radius: 0.35em; vertical-align: middle; margin-left: 0.5rem\">DATE</span></mark> while listening music on <mark class=\"entity\" style=\"background: #bfeeb7; padding: 0.45em 0.6em; margin: 0 0.25em; line-height: 1; border-radius: 0.35em;\">iPods<span style=\"font-size: 0.8em; font-weight: bold; line-height: 1; border-radius: 0.35em; vertical-align: middle; margin-left: 0.5rem\">PRODUCT</span></mark>.</div></span>"
      ],
      "text/plain": [
       "<IPython.core.display.HTML object>"
      ]
     },
     "metadata": {},
     "output_type": "display_data"
    }
   ],
   "source": [
    "displacy.render(doc2, style='ent', jupyter=True, minify=True,options={'distance': 100})"
   ]
  },
  {
   "cell_type": "code",
   "execution_count": 55,
   "id": "a9de25fb",
   "metadata": {},
   "outputs": [
    {
     "ename": "TypeError",
     "evalue": "serve() got an unexpected keyword argument 'compact'",
     "output_type": "error",
     "traceback": [
      "\u001b[1;31m---------------------------------------------------------------------------\u001b[0m",
      "\u001b[1;31mTypeError\u001b[0m                                 Traceback (most recent call last)",
      "Cell \u001b[1;32mIn[55], line 1\u001b[0m\n\u001b[1;32m----> 1\u001b[0m \u001b[43mdisplacy\u001b[49m\u001b[38;5;241;43m.\u001b[39;49m\u001b[43mserve\u001b[49m\u001b[43m(\u001b[49m\u001b[43mdoc2\u001b[49m\u001b[43m,\u001b[49m\u001b[43m \u001b[49m\u001b[43mstyle\u001b[49m\u001b[38;5;241;43m=\u001b[39;49m\u001b[38;5;124;43m'\u001b[39;49m\u001b[38;5;124;43mdep\u001b[39;49m\u001b[38;5;124;43m'\u001b[39;49m\u001b[43m,\u001b[49m\u001b[43m \u001b[49m\u001b[43mcompact\u001b[49m\u001b[38;5;241;43m=\u001b[39;49m\u001b[38;5;28;43;01mFalse\u001b[39;49;00m\u001b[43m)\u001b[49m\n",
      "\u001b[1;31mTypeError\u001b[0m: serve() got an unexpected keyword argument 'compact'"
     ]
    }
   ],
   "source": [
    "# displacy.serve(doc2, style='ent')"
   ]
  },
  {
   "cell_type": "code",
   "execution_count": 63,
   "id": "f6d41715",
   "metadata": {},
   "outputs": [
    {
     "data": {
      "text/html": [
       "<span class=\"tex2jax_ignore\"><svg xmlns=\"http://www.w3.org/2000/svg\" xmlns:xlink=\"http://www.w3.org/1999/xlink\" xml:lang=\"en\" id=\"0ea495aea3a949098214bcfd1e9dd2e0-0\" class=\"displacy\" width=\"2050\" height=\"437.0\" direction=\"ltr\" style=\"max-width: none; height: 437.0px; color: #fff; background: #09a3d5; font-family: Arial; direction: ltr\"><text class=\"displacy-token\" fill=\"currentColor\" text-anchor=\"middle\" y=\"347.0\"><tspan class=\"displacy-word\" fill=\"currentColor\" x=\"50\">Steve</tspan><tspan class=\"displacy-tag\" dy=\"2em\" fill=\"currentColor\" x=\"50\">PROPN</tspan></text><text class=\"displacy-token\" fill=\"currentColor\" text-anchor=\"middle\" y=\"347.0\"><tspan class=\"displacy-word\" fill=\"currentColor\" x=\"150\">jobs,</tspan><tspan class=\"displacy-tag\" dy=\"2em\" fill=\"currentColor\" x=\"150\">NOUN</tspan></text><text class=\"displacy-token\" fill=\"currentColor\" text-anchor=\"middle\" y=\"347.0\"><tspan class=\"displacy-word\" fill=\"currentColor\" x=\"250\">founder</tspan><tspan class=\"displacy-tag\" dy=\"2em\" fill=\"currentColor\" x=\"250\">NOUN</tspan></text><text class=\"displacy-token\" fill=\"currentColor\" text-anchor=\"middle\" y=\"347.0\"><tspan class=\"displacy-word\" fill=\"currentColor\" x=\"350\">of</tspan><tspan class=\"displacy-tag\" dy=\"2em\" fill=\"currentColor\" x=\"350\">ADP</tspan></text><text class=\"displacy-token\" fill=\"currentColor\" text-anchor=\"middle\" y=\"347.0\"><tspan class=\"displacy-word\" fill=\"currentColor\" x=\"450\">apple</tspan><tspan class=\"displacy-tag\" dy=\"2em\" fill=\"currentColor\" x=\"450\">NOUN</tspan></text><text class=\"displacy-token\" fill=\"currentColor\" text-anchor=\"middle\" y=\"347.0\"><tspan class=\"displacy-word\" fill=\"currentColor\" x=\"550\">was</tspan><tspan class=\"displacy-tag\" dy=\"2em\" fill=\"currentColor\" x=\"550\">AUX</tspan></text><text class=\"displacy-token\" fill=\"currentColor\" text-anchor=\"middle\" y=\"347.0\"><tspan class=\"displacy-word\" fill=\"currentColor\" x=\"650\">eating</tspan><tspan class=\"displacy-tag\" dy=\"2em\" fill=\"currentColor\" x=\"650\">VERB</tspan></text><text class=\"displacy-token\" fill=\"currentColor\" text-anchor=\"middle\" y=\"347.0\"><tspan class=\"displacy-word\" fill=\"currentColor\" x=\"750\">an</tspan><tspan class=\"displacy-tag\" dy=\"2em\" fill=\"currentColor\" x=\"750\">DET</tspan></text><text class=\"displacy-token\" fill=\"currentColor\" text-anchor=\"middle\" y=\"347.0\"><tspan class=\"displacy-word\" fill=\"currentColor\" x=\"850\">10</tspan><tspan class=\"displacy-tag\" dy=\"2em\" fill=\"currentColor\" x=\"850\">NUM</tspan></text><text class=\"displacy-token\" fill=\"currentColor\" text-anchor=\"middle\" y=\"347.0\"><tspan class=\"displacy-word\" fill=\"currentColor\" x=\"950\">apples</tspan><tspan class=\"displacy-tag\" dy=\"2em\" fill=\"currentColor\" x=\"950\">NOUN</tspan></text><text class=\"displacy-token\" fill=\"currentColor\" text-anchor=\"middle\" y=\"347.0\"><tspan class=\"displacy-word\" fill=\"currentColor\" x=\"1050\">at</tspan><tspan class=\"displacy-tag\" dy=\"2em\" fill=\"currentColor\" x=\"1050\">ADP</tspan></text><text class=\"displacy-token\" fill=\"currentColor\" text-anchor=\"middle\" y=\"347.0\"><tspan class=\"displacy-word\" fill=\"currentColor\" x=\"1150\">the</tspan><tspan class=\"displacy-tag\" dy=\"2em\" fill=\"currentColor\" x=\"1150\">DET</tspan></text><text class=\"displacy-token\" fill=\"currentColor\" text-anchor=\"middle\" y=\"347.0\"><tspan class=\"displacy-word\" fill=\"currentColor\" x=\"1250\">apple</tspan><tspan class=\"displacy-tag\" dy=\"2em\" fill=\"currentColor\" x=\"1250\">NOUN</tspan></text><text class=\"displacy-token\" fill=\"currentColor\" text-anchor=\"middle\" y=\"347.0\"><tspan class=\"displacy-word\" fill=\"currentColor\" x=\"1350\">last</tspan><tspan class=\"displacy-tag\" dy=\"2em\" fill=\"currentColor\" x=\"1350\">ADJ</tspan></text><text class=\"displacy-token\" fill=\"currentColor\" text-anchor=\"middle\" y=\"347.0\"><tspan class=\"displacy-word\" fill=\"currentColor\" x=\"1450\">month</tspan><tspan class=\"displacy-tag\" dy=\"2em\" fill=\"currentColor\" x=\"1450\">NOUN</tspan></text><text class=\"displacy-token\" fill=\"currentColor\" text-anchor=\"middle\" y=\"347.0\"><tspan class=\"displacy-word\" fill=\"currentColor\" x=\"1550\">while</tspan><tspan class=\"displacy-tag\" dy=\"2em\" fill=\"currentColor\" x=\"1550\">SCONJ</tspan></text><text class=\"displacy-token\" fill=\"currentColor\" text-anchor=\"middle\" y=\"347.0\"><tspan class=\"displacy-word\" fill=\"currentColor\" x=\"1650\">listening</tspan><tspan class=\"displacy-tag\" dy=\"2em\" fill=\"currentColor\" x=\"1650\">VERB</tspan></text><text class=\"displacy-token\" fill=\"currentColor\" text-anchor=\"middle\" y=\"347.0\"><tspan class=\"displacy-word\" fill=\"currentColor\" x=\"1750\">music</tspan><tspan class=\"displacy-tag\" dy=\"2em\" fill=\"currentColor\" x=\"1750\">NOUN</tspan></text><text class=\"displacy-token\" fill=\"currentColor\" text-anchor=\"middle\" y=\"347.0\"><tspan class=\"displacy-word\" fill=\"currentColor\" x=\"1850\">on</tspan><tspan class=\"displacy-tag\" dy=\"2em\" fill=\"currentColor\" x=\"1850\">ADP</tspan></text><text class=\"displacy-token\" fill=\"currentColor\" text-anchor=\"middle\" y=\"347.0\"><tspan class=\"displacy-word\" fill=\"currentColor\" x=\"1950\">iPods.</tspan><tspan class=\"displacy-tag\" dy=\"2em\" fill=\"currentColor\" x=\"1950\">PROPN</tspan></text><g class=\"displacy-arrow\"><path class=\"displacy-arc\" id=\"arrow-0ea495aea3a949098214bcfd1e9dd2e0-0-0\" stroke-width=\"2px\" d=\"M62,302.0 62,285.3333333333333 135.0,285.3333333333333 135.0,302.0\" fill=\"none\" stroke=\"currentColor\"/><text dy=\"1.25em\" style=\"font-size: 0.8em; letter-spacing: 1px\"><textPath xlink:href=\"#arrow-0ea495aea3a949098214bcfd1e9dd2e0-0-0\" class=\"displacy-label\" startOffset=\"50%\" side=\"left\" fill=\"currentColor\" text-anchor=\"middle\">compound</textPath></text><path class=\"displacy-arrowhead\" d=\"M62,304.0 L58,296.0 66,296.0\" fill=\"currentColor\"/></g><g class=\"displacy-arrow\"><path class=\"displacy-arc\" id=\"arrow-0ea495aea3a949098214bcfd1e9dd2e0-0-1\" stroke-width=\"2px\" d=\"M162,302.0 162,268.6666666666667 638.0,268.6666666666667 638.0,302.0\" fill=\"none\" stroke=\"currentColor\"/><text dy=\"1.25em\" style=\"font-size: 0.8em; letter-spacing: 1px\"><textPath xlink:href=\"#arrow-0ea495aea3a949098214bcfd1e9dd2e0-0-1\" class=\"displacy-label\" startOffset=\"50%\" side=\"left\" fill=\"currentColor\" text-anchor=\"middle\">nsubj</textPath></text><path class=\"displacy-arrowhead\" d=\"M162,304.0 L158,296.0 166,296.0\" fill=\"currentColor\"/></g><g class=\"displacy-arrow\"><path class=\"displacy-arc\" id=\"arrow-0ea495aea3a949098214bcfd1e9dd2e0-0-2\" stroke-width=\"2px\" d=\"M162,302.0 162,285.3333333333333 235.0,285.3333333333333 235.0,302.0\" fill=\"none\" stroke=\"currentColor\"/><text dy=\"1.25em\" style=\"font-size: 0.8em; letter-spacing: 1px\"><textPath xlink:href=\"#arrow-0ea495aea3a949098214bcfd1e9dd2e0-0-2\" class=\"displacy-label\" startOffset=\"50%\" side=\"left\" fill=\"currentColor\" text-anchor=\"middle\">appos</textPath></text><path class=\"displacy-arrowhead\" d=\"M235.0,304.0 L239.0,296.0 231.0,296.0\" fill=\"currentColor\"/></g><g class=\"displacy-arrow\"><path class=\"displacy-arc\" id=\"arrow-0ea495aea3a949098214bcfd1e9dd2e0-0-3\" stroke-width=\"2px\" d=\"M262,302.0 262,285.3333333333333 335.0,285.3333333333333 335.0,302.0\" fill=\"none\" stroke=\"currentColor\"/><text dy=\"1.25em\" style=\"font-size: 0.8em; letter-spacing: 1px\"><textPath xlink:href=\"#arrow-0ea495aea3a949098214bcfd1e9dd2e0-0-3\" class=\"displacy-label\" startOffset=\"50%\" side=\"left\" fill=\"currentColor\" text-anchor=\"middle\">prep</textPath></text><path class=\"displacy-arrowhead\" d=\"M335.0,304.0 L339.0,296.0 331.0,296.0\" fill=\"currentColor\"/></g><g class=\"displacy-arrow\"><path class=\"displacy-arc\" id=\"arrow-0ea495aea3a949098214bcfd1e9dd2e0-0-4\" stroke-width=\"2px\" d=\"M362,302.0 362,285.3333333333333 435.0,285.3333333333333 435.0,302.0\" fill=\"none\" stroke=\"currentColor\"/><text dy=\"1.25em\" style=\"font-size: 0.8em; letter-spacing: 1px\"><textPath xlink:href=\"#arrow-0ea495aea3a949098214bcfd1e9dd2e0-0-4\" class=\"displacy-label\" startOffset=\"50%\" side=\"left\" fill=\"currentColor\" text-anchor=\"middle\">pobj</textPath></text><path class=\"displacy-arrowhead\" d=\"M435.0,304.0 L439.0,296.0 431.0,296.0\" fill=\"currentColor\"/></g><g class=\"displacy-arrow\"><path class=\"displacy-arc\" id=\"arrow-0ea495aea3a949098214bcfd1e9dd2e0-0-5\" stroke-width=\"2px\" d=\"M562,302.0 562,285.3333333333333 635.0,285.3333333333333 635.0,302.0\" fill=\"none\" stroke=\"currentColor\"/><text dy=\"1.25em\" style=\"font-size: 0.8em; letter-spacing: 1px\"><textPath xlink:href=\"#arrow-0ea495aea3a949098214bcfd1e9dd2e0-0-5\" class=\"displacy-label\" startOffset=\"50%\" side=\"left\" fill=\"currentColor\" text-anchor=\"middle\">aux</textPath></text><path class=\"displacy-arrowhead\" d=\"M562,304.0 L558,296.0 566,296.0\" fill=\"currentColor\"/></g><g class=\"displacy-arrow\"><path class=\"displacy-arc\" id=\"arrow-0ea495aea3a949098214bcfd1e9dd2e0-0-6\" stroke-width=\"2px\" d=\"M762,302.0 762,268.6666666666667 938.0,268.6666666666667 938.0,302.0\" fill=\"none\" stroke=\"currentColor\"/><text dy=\"1.25em\" style=\"font-size: 0.8em; letter-spacing: 1px\"><textPath xlink:href=\"#arrow-0ea495aea3a949098214bcfd1e9dd2e0-0-6\" class=\"displacy-label\" startOffset=\"50%\" side=\"left\" fill=\"currentColor\" text-anchor=\"middle\">det</textPath></text><path class=\"displacy-arrowhead\" d=\"M762,304.0 L758,296.0 766,296.0\" fill=\"currentColor\"/></g><g class=\"displacy-arrow\"><path class=\"displacy-arc\" id=\"arrow-0ea495aea3a949098214bcfd1e9dd2e0-0-7\" stroke-width=\"2px\" d=\"M862,302.0 862,285.3333333333333 935.0,285.3333333333333 935.0,302.0\" fill=\"none\" stroke=\"currentColor\"/><text dy=\"1.25em\" style=\"font-size: 0.8em; letter-spacing: 1px\"><textPath xlink:href=\"#arrow-0ea495aea3a949098214bcfd1e9dd2e0-0-7\" class=\"displacy-label\" startOffset=\"50%\" side=\"left\" fill=\"currentColor\" text-anchor=\"middle\">nummod</textPath></text><path class=\"displacy-arrowhead\" d=\"M862,304.0 L858,296.0 866,296.0\" fill=\"currentColor\"/></g><g class=\"displacy-arrow\"><path class=\"displacy-arc\" id=\"arrow-0ea495aea3a949098214bcfd1e9dd2e0-0-8\" stroke-width=\"2px\" d=\"M662,302.0 662,252.0 941.0,252.0 941.0,302.0\" fill=\"none\" stroke=\"currentColor\"/><text dy=\"1.25em\" style=\"font-size: 0.8em; letter-spacing: 1px\"><textPath xlink:href=\"#arrow-0ea495aea3a949098214bcfd1e9dd2e0-0-8\" class=\"displacy-label\" startOffset=\"50%\" side=\"left\" fill=\"currentColor\" text-anchor=\"middle\">dobj</textPath></text><path class=\"displacy-arrowhead\" d=\"M941.0,304.0 L945.0,296.0 937.0,296.0\" fill=\"currentColor\"/></g><g class=\"displacy-arrow\"><path class=\"displacy-arc\" id=\"arrow-0ea495aea3a949098214bcfd1e9dd2e0-0-9\" stroke-width=\"2px\" d=\"M662,302.0 662,235.33333333333331 1044.0,235.33333333333331 1044.0,302.0\" fill=\"none\" stroke=\"currentColor\"/><text dy=\"1.25em\" style=\"font-size: 0.8em; letter-spacing: 1px\"><textPath xlink:href=\"#arrow-0ea495aea3a949098214bcfd1e9dd2e0-0-9\" class=\"displacy-label\" startOffset=\"50%\" side=\"left\" fill=\"currentColor\" text-anchor=\"middle\">prep</textPath></text><path class=\"displacy-arrowhead\" d=\"M1044.0,304.0 L1048.0,296.0 1040.0,296.0\" fill=\"currentColor\"/></g><g class=\"displacy-arrow\"><path class=\"displacy-arc\" id=\"arrow-0ea495aea3a949098214bcfd1e9dd2e0-0-10\" stroke-width=\"2px\" d=\"M1162,302.0 1162,285.3333333333333 1235.0,285.3333333333333 1235.0,302.0\" fill=\"none\" stroke=\"currentColor\"/><text dy=\"1.25em\" style=\"font-size: 0.8em; letter-spacing: 1px\"><textPath xlink:href=\"#arrow-0ea495aea3a949098214bcfd1e9dd2e0-0-10\" class=\"displacy-label\" startOffset=\"50%\" side=\"left\" fill=\"currentColor\" text-anchor=\"middle\">det</textPath></text><path class=\"displacy-arrowhead\" d=\"M1162,304.0 L1158,296.0 1166,296.0\" fill=\"currentColor\"/></g><g class=\"displacy-arrow\"><path class=\"displacy-arc\" id=\"arrow-0ea495aea3a949098214bcfd1e9dd2e0-0-11\" stroke-width=\"2px\" d=\"M1062,302.0 1062,268.6666666666667 1238.0,268.6666666666667 1238.0,302.0\" fill=\"none\" stroke=\"currentColor\"/><text dy=\"1.25em\" style=\"font-size: 0.8em; letter-spacing: 1px\"><textPath xlink:href=\"#arrow-0ea495aea3a949098214bcfd1e9dd2e0-0-11\" class=\"displacy-label\" startOffset=\"50%\" side=\"left\" fill=\"currentColor\" text-anchor=\"middle\">pobj</textPath></text><path class=\"displacy-arrowhead\" d=\"M1238.0,304.0 L1242.0,296.0 1234.0,296.0\" fill=\"currentColor\"/></g><g class=\"displacy-arrow\"><path class=\"displacy-arc\" id=\"arrow-0ea495aea3a949098214bcfd1e9dd2e0-0-12\" stroke-width=\"2px\" d=\"M1362,302.0 1362,285.3333333333333 1435.0,285.3333333333333 1435.0,302.0\" fill=\"none\" stroke=\"currentColor\"/><text dy=\"1.25em\" style=\"font-size: 0.8em; letter-spacing: 1px\"><textPath xlink:href=\"#arrow-0ea495aea3a949098214bcfd1e9dd2e0-0-12\" class=\"displacy-label\" startOffset=\"50%\" side=\"left\" fill=\"currentColor\" text-anchor=\"middle\">amod</textPath></text><path class=\"displacy-arrowhead\" d=\"M1362,304.0 L1358,296.0 1366,296.0\" fill=\"currentColor\"/></g><g class=\"displacy-arrow\"><path class=\"displacy-arc\" id=\"arrow-0ea495aea3a949098214bcfd1e9dd2e0-0-13\" stroke-width=\"2px\" d=\"M662,302.0 662,218.66666666666669 1447.0,218.66666666666669 1447.0,302.0\" fill=\"none\" stroke=\"currentColor\"/><text dy=\"1.25em\" style=\"font-size: 0.8em; letter-spacing: 1px\"><textPath xlink:href=\"#arrow-0ea495aea3a949098214bcfd1e9dd2e0-0-13\" class=\"displacy-label\" startOffset=\"50%\" side=\"left\" fill=\"currentColor\" text-anchor=\"middle\">npadvmod</textPath></text><path class=\"displacy-arrowhead\" d=\"M1447.0,304.0 L1451.0,296.0 1443.0,296.0\" fill=\"currentColor\"/></g><g class=\"displacy-arrow\"><path class=\"displacy-arc\" id=\"arrow-0ea495aea3a949098214bcfd1e9dd2e0-0-14\" stroke-width=\"2px\" d=\"M1562,302.0 1562,285.3333333333333 1635.0,285.3333333333333 1635.0,302.0\" fill=\"none\" stroke=\"currentColor\"/><text dy=\"1.25em\" style=\"font-size: 0.8em; letter-spacing: 1px\"><textPath xlink:href=\"#arrow-0ea495aea3a949098214bcfd1e9dd2e0-0-14\" class=\"displacy-label\" startOffset=\"50%\" side=\"left\" fill=\"currentColor\" text-anchor=\"middle\">mark</textPath></text><path class=\"displacy-arrowhead\" d=\"M1562,304.0 L1558,296.0 1566,296.0\" fill=\"currentColor\"/></g><g class=\"displacy-arrow\"><path class=\"displacy-arc\" id=\"arrow-0ea495aea3a949098214bcfd1e9dd2e0-0-15\" stroke-width=\"2px\" d=\"M662,302.0 662,202.0 1650.0,202.0 1650.0,302.0\" fill=\"none\" stroke=\"currentColor\"/><text dy=\"1.25em\" style=\"font-size: 0.8em; letter-spacing: 1px\"><textPath xlink:href=\"#arrow-0ea495aea3a949098214bcfd1e9dd2e0-0-15\" class=\"displacy-label\" startOffset=\"50%\" side=\"left\" fill=\"currentColor\" text-anchor=\"middle\">advcl</textPath></text><path class=\"displacy-arrowhead\" d=\"M1650.0,304.0 L1654.0,296.0 1646.0,296.0\" fill=\"currentColor\"/></g><g class=\"displacy-arrow\"><path class=\"displacy-arc\" id=\"arrow-0ea495aea3a949098214bcfd1e9dd2e0-0-16\" stroke-width=\"2px\" d=\"M1662,302.0 1662,285.3333333333333 1735.0,285.3333333333333 1735.0,302.0\" fill=\"none\" stroke=\"currentColor\"/><text dy=\"1.25em\" style=\"font-size: 0.8em; letter-spacing: 1px\"><textPath xlink:href=\"#arrow-0ea495aea3a949098214bcfd1e9dd2e0-0-16\" class=\"displacy-label\" startOffset=\"50%\" side=\"left\" fill=\"currentColor\" text-anchor=\"middle\">dobj</textPath></text><path class=\"displacy-arrowhead\" d=\"M1735.0,304.0 L1739.0,296.0 1731.0,296.0\" fill=\"currentColor\"/></g><g class=\"displacy-arrow\"><path class=\"displacy-arc\" id=\"arrow-0ea495aea3a949098214bcfd1e9dd2e0-0-17\" stroke-width=\"2px\" d=\"M1662,302.0 1662,268.6666666666667 1838.0,268.6666666666667 1838.0,302.0\" fill=\"none\" stroke=\"currentColor\"/><text dy=\"1.25em\" style=\"font-size: 0.8em; letter-spacing: 1px\"><textPath xlink:href=\"#arrow-0ea495aea3a949098214bcfd1e9dd2e0-0-17\" class=\"displacy-label\" startOffset=\"50%\" side=\"left\" fill=\"currentColor\" text-anchor=\"middle\">prep</textPath></text><path class=\"displacy-arrowhead\" d=\"M1838.0,304.0 L1842.0,296.0 1834.0,296.0\" fill=\"currentColor\"/></g><g class=\"displacy-arrow\"><path class=\"displacy-arc\" id=\"arrow-0ea495aea3a949098214bcfd1e9dd2e0-0-18\" stroke-width=\"2px\" d=\"M1862,302.0 1862,285.3333333333333 1935.0,285.3333333333333 1935.0,302.0\" fill=\"none\" stroke=\"currentColor\"/><text dy=\"1.25em\" style=\"font-size: 0.8em; letter-spacing: 1px\"><textPath xlink:href=\"#arrow-0ea495aea3a949098214bcfd1e9dd2e0-0-18\" class=\"displacy-label\" startOffset=\"50%\" side=\"left\" fill=\"currentColor\" text-anchor=\"middle\">pobj</textPath></text><path class=\"displacy-arrowhead\" d=\"M1935.0,304.0 L1939.0,296.0 1931.0,296.0\" fill=\"currentColor\"/></g></svg></span>"
      ],
      "text/plain": [
       "<IPython.core.display.HTML object>"
      ]
     },
     "metadata": {},
     "output_type": "display_data"
    }
   ],
   "source": [
    "displacy.render(doc2, style='dep', jupyter=True, minify=True,options={'distance': 100,'color':'#fff', 'bg':'#09a3d5','compact':True})"
   ]
  },
  {
   "cell_type": "code",
   "execution_count": null,
   "id": "d58cfd51",
   "metadata": {},
   "outputs": [],
   "source": []
  }
 ],
 "metadata": {
  "kernelspec": {
   "display_name": "Python 3 (ipykernel)",
   "language": "python",
   "name": "python3"
  },
  "language_info": {
   "codemirror_mode": {
    "name": "ipython",
    "version": 3
   },
   "file_extension": ".py",
   "mimetype": "text/x-python",
   "name": "python",
   "nbconvert_exporter": "python",
   "pygments_lexer": "ipython3",
   "version": "3.11.3"
  }
 },
 "nbformat": 4,
 "nbformat_minor": 5
}
