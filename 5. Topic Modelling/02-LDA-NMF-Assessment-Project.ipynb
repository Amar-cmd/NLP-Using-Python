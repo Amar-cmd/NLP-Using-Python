{
 "cells": [
  {
   "cell_type": "markdown",
   "metadata": {
    "collapsed": true
   },
   "source": [
    "# Topic Modeling Assessment Project\n",
    "\n",
    "Welcome to your Topic Modeling Assessment! For this project you will be working with a dataset of over 400,000 quora questions that have no labeled cateogry, and attempting to find 20 cateogries to assign these questions to. The .csv file of these text questions can be found underneath the Topic-Modeling folder.\n",
    "\n",
    "Remember you can always check the solutions notebook and video lecture for any questions."
   ]
  },
  {
   "cell_type": "markdown",
   "metadata": {},
   "source": [
    "#### Task: Import pandas and read in the quora_questions.csv file."
   ]
  },
  {
   "cell_type": "code",
   "execution_count": 1,
   "metadata": {},
   "outputs": [],
   "source": [
    "import pandas as pd"
   ]
  },
  {
   "cell_type": "code",
   "execution_count": 2,
   "metadata": {},
   "outputs": [],
   "source": [
    "df = pd.read_csv('./quora_questions.csv')"
   ]
  },
  {
   "cell_type": "code",
   "execution_count": 4,
   "metadata": {},
   "outputs": [
    {
     "data": {
      "text/html": [
       "<div>\n",
       "<style scoped>\n",
       "    .dataframe tbody tr th:only-of-type {\n",
       "        vertical-align: middle;\n",
       "    }\n",
       "\n",
       "    .dataframe tbody tr th {\n",
       "        vertical-align: top;\n",
       "    }\n",
       "\n",
       "    .dataframe thead th {\n",
       "        text-align: right;\n",
       "    }\n",
       "</style>\n",
       "<table border=\"1\" class=\"dataframe\">\n",
       "  <thead>\n",
       "    <tr style=\"text-align: right;\">\n",
       "      <th></th>\n",
       "      <th>Question</th>\n",
       "    </tr>\n",
       "  </thead>\n",
       "  <tbody>\n",
       "    <tr>\n",
       "      <th>0</th>\n",
       "      <td>What is the step by step guide to invest in sh...</td>\n",
       "    </tr>\n",
       "    <tr>\n",
       "      <th>1</th>\n",
       "      <td>What is the story of Kohinoor (Koh-i-Noor) Dia...</td>\n",
       "    </tr>\n",
       "    <tr>\n",
       "      <th>2</th>\n",
       "      <td>How can I increase the speed of my internet co...</td>\n",
       "    </tr>\n",
       "    <tr>\n",
       "      <th>3</th>\n",
       "      <td>Why am I mentally very lonely? How can I solve...</td>\n",
       "    </tr>\n",
       "    <tr>\n",
       "      <th>4</th>\n",
       "      <td>Which one dissolve in water quikly sugar, salt...</td>\n",
       "    </tr>\n",
       "  </tbody>\n",
       "</table>\n",
       "</div>"
      ],
      "text/plain": [
       "                                            Question\n",
       "0  What is the step by step guide to invest in sh...\n",
       "1  What is the story of Kohinoor (Koh-i-Noor) Dia...\n",
       "2  How can I increase the speed of my internet co...\n",
       "3  Why am I mentally very lonely? How can I solve...\n",
       "4  Which one dissolve in water quikly sugar, salt..."
      ]
     },
     "execution_count": 4,
     "metadata": {},
     "output_type": "execute_result"
    }
   ],
   "source": [
    "df.head()"
   ]
  },
  {
   "cell_type": "markdown",
   "metadata": {},
   "source": [
    "# Preprocessing\n",
    "\n",
    "#### Task: Use TF-IDF Vectorization to create a vectorized document term matrix. You may want to explore the max_df and min_df parameters."
   ]
  },
  {
   "cell_type": "code",
   "execution_count": 5,
   "metadata": {},
   "outputs": [],
   "source": [
    "from sklearn.feature_extraction.text import TfidfVectorizer"
   ]
  },
  {
   "cell_type": "code",
   "execution_count": 6,
   "metadata": {},
   "outputs": [],
   "source": [
    "tfidf = TfidfVectorizer(max_df=0.95, min_df=2, stop_words='english')"
   ]
  },
  {
   "cell_type": "code",
   "execution_count": 8,
   "metadata": {},
   "outputs": [],
   "source": [
    "dtm = tfidf.fit_transform(df['Question'])"
   ]
  },
  {
   "cell_type": "code",
   "execution_count": 9,
   "metadata": {},
   "outputs": [
    {
     "data": {
      "text/plain": [
       "<404289x38669 sparse matrix of type '<class 'numpy.float64'>'\n",
       "\twith 2002912 stored elements in Compressed Sparse Row format>"
      ]
     },
     "execution_count": 9,
     "metadata": {},
     "output_type": "execute_result"
    }
   ],
   "source": [
    "dtm"
   ]
  },
  {
   "cell_type": "markdown",
   "metadata": {},
   "source": [
    "# Non-negative Matrix Factorization\n",
    "\n",
    "#### TASK: Using Scikit-Learn create an instance of NMF with 20 expected components. (Use random_state=42).."
   ]
  },
  {
   "cell_type": "code",
   "execution_count": 10,
   "metadata": {},
   "outputs": [],
   "source": [
    "from sklearn.decomposition import NMF"
   ]
  },
  {
   "cell_type": "code",
   "execution_count": 13,
   "metadata": {},
   "outputs": [],
   "source": [
    "nmf = NMF(n_components=20, random_state=42, verbose=2)"
   ]
  },
  {
   "cell_type": "code",
   "execution_count": 14,
   "metadata": {
    "scrolled": true
   },
   "outputs": [
    {
     "name": "stdout",
     "output_type": "stream",
     "text": [
      "violation: 1.0\n",
      "violation: 0.12496204212069398\n",
      "violation: 0.053788459037527575\n",
      "violation: 0.033902998286721824\n",
      "violation: 0.01745966027279114\n",
      "violation: 0.010106599199413712\n",
      "violation: 0.006615690893273301\n",
      "violation: 0.005037051317142189\n",
      "violation: 0.004339758276120241\n",
      "violation: 0.004127172807259321\n",
      "violation: 0.004166391364315649\n",
      "violation: 0.0043304879176114764\n",
      "violation: 0.004564667799953912\n",
      "violation: 0.004741146368135883\n",
      "violation: 0.004782374019333202\n",
      "violation: 0.004646903860605924\n",
      "violation: 0.004409900954619259\n",
      "violation: 0.0041049254459422846\n",
      "violation: 0.003773611020795247\n",
      "violation: 0.003430973599343361\n",
      "violation: 0.003198109346484904\n",
      "violation: 0.0033663724427022267\n",
      "violation: 0.0036932292497283015\n",
      "violation: 0.004320319932782158\n",
      "violation: 0.0052324213816678225\n",
      "violation: 0.0059307587998492445\n",
      "violation: 0.005876666798024568\n",
      "violation: 0.005054227643429197\n",
      "violation: 0.003753240332348861\n",
      "violation: 0.002888635886953083\n",
      "violation: 0.0022604146035839013\n",
      "violation: 0.0017522719372380703\n",
      "violation: 0.0013190210274163967\n",
      "violation: 0.0010047632452290188\n",
      "violation: 0.0007935479541703482\n",
      "violation: 0.0006335243877419499\n",
      "violation: 0.000512135151123602\n",
      "violation: 0.0004202654621160804\n",
      "violation: 0.0003521874904520029\n",
      "violation: 0.0003032277190229023\n",
      "violation: 0.0002680730959005279\n",
      "violation: 0.00024333936910176906\n",
      "violation: 0.00023063028847146273\n",
      "violation: 0.00022216378084841305\n",
      "violation: 0.00021639878445142344\n",
      "violation: 0.00021278874891669154\n",
      "violation: 0.00021213646736937338\n",
      "violation: 0.00021280333932314908\n",
      "violation: 0.00021416389699322995\n",
      "violation: 0.00021599099854317617\n",
      "violation: 0.00021822772467867827\n",
      "violation: 0.00022087902285621488\n",
      "violation: 0.00022375012571112257\n",
      "violation: 0.00022696521463609308\n",
      "violation: 0.00023055837688130073\n",
      "violation: 0.000234495967504935\n",
      "violation: 0.00023882900036328067\n",
      "violation: 0.0002424347579596607\n",
      "violation: 0.0002469153224018321\n",
      "violation: 0.0002516587631210617\n",
      "violation: 0.0002567363306238543\n",
      "violation: 0.00026210960474536675\n",
      "violation: 0.00026787101890502483\n",
      "violation: 0.0002740487350071976\n",
      "violation: 0.00028110054239386523\n",
      "violation: 0.0002888157723264174\n",
      "violation: 0.0002969493797731087\n",
      "violation: 0.0003055982940376202\n",
      "violation: 0.00031437178678964437\n",
      "violation: 0.0003238475515196784\n",
      "violation: 0.00033388313980038735\n",
      "violation: 0.0003442287091514129\n",
      "violation: 0.0003553072440067541\n",
      "violation: 0.0003670345629742129\n",
      "violation: 0.00037927912489965767\n",
      "violation: 0.00039210178431973384\n",
      "violation: 0.00040559742624307485\n",
      "violation: 0.0004196689080784412\n",
      "violation: 0.00043458220089546984\n",
      "violation: 0.00044979020232200327\n",
      "violation: 0.00046461805059969406\n",
      "violation: 0.0004789677000354743\n",
      "violation: 0.0004931412379287002\n",
      "violation: 0.0005074812408788737\n",
      "violation: 0.0005196394935933392\n",
      "violation: 0.0005316435208928854\n",
      "violation: 0.0005438138764247824\n",
      "violation: 0.0005556910678633896\n",
      "violation: 0.0005666732481769408\n",
      "violation: 0.0005769800949671869\n",
      "violation: 0.0005874668384924259\n",
      "violation: 0.0005908014984332147\n",
      "violation: 0.0005979387904138031\n",
      "violation: 0.0006043979486005272\n",
      "violation: 0.0006092126380031166\n",
      "violation: 0.000612515370853441\n",
      "violation: 0.0006151722649575208\n",
      "violation: 0.0006171187346254201\n",
      "violation: 0.0006186728264509425\n",
      "violation: 0.0006192235929238648\n",
      "violation: 0.0006185856212128012\n",
      "violation: 0.0006173357830699932\n",
      "violation: 0.0006162430691423724\n",
      "violation: 0.0006158603851099307\n",
      "violation: 0.0006153796937057086\n",
      "violation: 0.0006136274115193769\n",
      "violation: 0.0006101944250060213\n",
      "violation: 0.0006060172588460363\n",
      "violation: 0.000601027099341827\n",
      "violation: 0.0005951516980807448\n",
      "violation: 0.0005874001160778754\n",
      "violation: 0.0005790684963571316\n",
      "violation: 0.0005706324186163321\n",
      "violation: 0.0005622432154957295\n",
      "violation: 0.0005533859218462791\n",
      "violation: 0.0005439023406137915\n",
      "violation: 0.0005343316662815715\n",
      "violation: 0.0005245935683066124\n",
      "violation: 0.0005151005747354316\n",
      "violation: 0.0005060694465964907\n",
      "violation: 0.0004978435058301735\n",
      "violation: 0.0004904332205641642\n",
      "violation: 0.0004840247303067568\n",
      "violation: 0.0004792549448738564\n",
      "violation: 0.00047391001802211654\n",
      "violation: 0.00046883139065642123\n",
      "violation: 0.0004634005934503857\n",
      "violation: 0.00045817559316503137\n",
      "violation: 0.00045493840095433446\n",
      "violation: 0.0004516970157232961\n",
      "violation: 0.00044860601178831056\n",
      "violation: 0.00044540339939027186\n",
      "violation: 0.0004420211012837509\n",
      "violation: 0.00043856802003784434\n",
      "violation: 0.00043476015270915117\n",
      "violation: 0.0004309103811118002\n",
      "violation: 0.00042677046241255257\n",
      "violation: 0.00042241517102688654\n",
      "violation: 0.00041757033075311736\n",
      "violation: 0.0004124883096253048\n",
      "violation: 0.00040736173376287416\n",
      "violation: 0.00040203471122319764\n",
      "violation: 0.00039686205454269235\n",
      "violation: 0.00039159107021950106\n",
      "violation: 0.00038603884983977175\n",
      "violation: 0.000380298247606983\n",
      "violation: 0.00037470728602386676\n",
      "violation: 0.0003692266484062754\n",
      "violation: 0.00036317556087026845\n",
      "violation: 0.0003577612398564916\n",
      "violation: 0.00035218343671643125\n",
      "violation: 0.00034643057349639935\n",
      "violation: 0.00034041259964863593\n",
      "violation: 0.0003343458179604258\n",
      "violation: 0.0003280090932736532\n",
      "violation: 0.0003220906609792452\n",
      "violation: 0.00031803377181987907\n",
      "violation: 0.0003130539659036965\n",
      "violation: 0.00030777024050823156\n",
      "violation: 0.00030155161079308993\n",
      "violation: 0.0002953023859262954\n",
      "violation: 0.0002895174406760936\n",
      "violation: 0.00028389280001534813\n",
      "violation: 0.0002784005434883013\n",
      "violation: 0.00027274808851568167\n",
      "violation: 0.0002672491120166114\n",
      "violation: 0.00026174099168712245\n",
      "violation: 0.00025622805758116624\n",
      "violation: 0.00025076446634339256\n",
      "violation: 0.0002452386207943866\n",
      "violation: 0.000239610536165303\n",
      "violation: 0.00023397815364757042\n",
      "violation: 0.0002283623986950158\n",
      "violation: 0.00022283599408878783\n",
      "violation: 0.00021743626289193532\n",
      "violation: 0.00021202155316235423\n",
      "violation: 0.00020666683645116047\n",
      "violation: 0.00020111489930039634\n",
      "violation: 0.0001958207331621796\n",
      "violation: 0.00019055944373343897\n",
      "violation: 0.00018530448638761412\n",
      "violation: 0.00018003584200980419\n",
      "violation: 0.0001747965395075416\n",
      "violation: 0.00016958663235918666\n",
      "violation: 0.0001644464157571831\n",
      "violation: 0.00015933676374872338\n",
      "violation: 0.0001541949388590273\n",
      "violation: 0.00014916557401182664\n",
      "violation: 0.00014425638670619424\n",
      "violation: 0.0001394543672339678\n",
      "violation: 0.0001347688220722506\n",
      "violation: 0.00013018043154883232\n",
      "violation: 0.00012565602047718609\n",
      "violation: 0.00012120924763356384\n",
      "violation: 0.00011681564313986223\n",
      "violation: 0.00011252254143361354\n",
      "violation: 0.00010833695513453059\n",
      "violation: 0.00010424274047893458\n",
      "violation: 0.00010018831266043743\n",
      "violation: 9.622812263823217e-05\n",
      "Converged at iteration 201\n"
     ]
    },
    {
     "name": "stderr",
     "output_type": "stream",
     "text": [
      "C:\\Python311\\Lib\\site-packages\\sklearn\\decomposition\\_nmf.py:1665: ConvergenceWarning: Maximum number of iterations 200 reached. Increase it to improve convergence.\n",
      "  warnings.warn(\n"
     ]
    },
    {
     "data": {
      "text/html": [
       "<style>#sk-container-id-2 {color: black;background-color: white;}#sk-container-id-2 pre{padding: 0;}#sk-container-id-2 div.sk-toggleable {background-color: white;}#sk-container-id-2 label.sk-toggleable__label {cursor: pointer;display: block;width: 100%;margin-bottom: 0;padding: 0.3em;box-sizing: border-box;text-align: center;}#sk-container-id-2 label.sk-toggleable__label-arrow:before {content: \"▸\";float: left;margin-right: 0.25em;color: #696969;}#sk-container-id-2 label.sk-toggleable__label-arrow:hover:before {color: black;}#sk-container-id-2 div.sk-estimator:hover label.sk-toggleable__label-arrow:before {color: black;}#sk-container-id-2 div.sk-toggleable__content {max-height: 0;max-width: 0;overflow: hidden;text-align: left;background-color: #f0f8ff;}#sk-container-id-2 div.sk-toggleable__content pre {margin: 0.2em;color: black;border-radius: 0.25em;background-color: #f0f8ff;}#sk-container-id-2 input.sk-toggleable__control:checked~div.sk-toggleable__content {max-height: 200px;max-width: 100%;overflow: auto;}#sk-container-id-2 input.sk-toggleable__control:checked~label.sk-toggleable__label-arrow:before {content: \"▾\";}#sk-container-id-2 div.sk-estimator input.sk-toggleable__control:checked~label.sk-toggleable__label {background-color: #d4ebff;}#sk-container-id-2 div.sk-label input.sk-toggleable__control:checked~label.sk-toggleable__label {background-color: #d4ebff;}#sk-container-id-2 input.sk-hidden--visually {border: 0;clip: rect(1px 1px 1px 1px);clip: rect(1px, 1px, 1px, 1px);height: 1px;margin: -1px;overflow: hidden;padding: 0;position: absolute;width: 1px;}#sk-container-id-2 div.sk-estimator {font-family: monospace;background-color: #f0f8ff;border: 1px dotted black;border-radius: 0.25em;box-sizing: border-box;margin-bottom: 0.5em;}#sk-container-id-2 div.sk-estimator:hover {background-color: #d4ebff;}#sk-container-id-2 div.sk-parallel-item::after {content: \"\";width: 100%;border-bottom: 1px solid gray;flex-grow: 1;}#sk-container-id-2 div.sk-label:hover label.sk-toggleable__label {background-color: #d4ebff;}#sk-container-id-2 div.sk-serial::before {content: \"\";position: absolute;border-left: 1px solid gray;box-sizing: border-box;top: 0;bottom: 0;left: 50%;z-index: 0;}#sk-container-id-2 div.sk-serial {display: flex;flex-direction: column;align-items: center;background-color: white;padding-right: 0.2em;padding-left: 0.2em;position: relative;}#sk-container-id-2 div.sk-item {position: relative;z-index: 1;}#sk-container-id-2 div.sk-parallel {display: flex;align-items: stretch;justify-content: center;background-color: white;position: relative;}#sk-container-id-2 div.sk-item::before, #sk-container-id-2 div.sk-parallel-item::before {content: \"\";position: absolute;border-left: 1px solid gray;box-sizing: border-box;top: 0;bottom: 0;left: 50%;z-index: -1;}#sk-container-id-2 div.sk-parallel-item {display: flex;flex-direction: column;z-index: 1;position: relative;background-color: white;}#sk-container-id-2 div.sk-parallel-item:first-child::after {align-self: flex-end;width: 50%;}#sk-container-id-2 div.sk-parallel-item:last-child::after {align-self: flex-start;width: 50%;}#sk-container-id-2 div.sk-parallel-item:only-child::after {width: 0;}#sk-container-id-2 div.sk-dashed-wrapped {border: 1px dashed gray;margin: 0 0.4em 0.5em 0.4em;box-sizing: border-box;padding-bottom: 0.4em;background-color: white;}#sk-container-id-2 div.sk-label label {font-family: monospace;font-weight: bold;display: inline-block;line-height: 1.2em;}#sk-container-id-2 div.sk-label-container {text-align: center;}#sk-container-id-2 div.sk-container {/* jupyter's `normalize.less` sets `[hidden] { display: none; }` but bootstrap.min.css set `[hidden] { display: none !important; }` so we also need the `!important` here to be able to override the default hidden behavior on the sphinx rendered scikit-learn.org. See: https://github.com/scikit-learn/scikit-learn/issues/21755 */display: inline-block !important;position: relative;}#sk-container-id-2 div.sk-text-repr-fallback {display: none;}</style><div id=\"sk-container-id-2\" class=\"sk-top-container\"><div class=\"sk-text-repr-fallback\"><pre>NMF(n_components=20, random_state=42, verbose=2)</pre><b>In a Jupyter environment, please rerun this cell to show the HTML representation or trust the notebook. <br />On GitHub, the HTML representation is unable to render, please try loading this page with nbviewer.org.</b></div><div class=\"sk-container\" hidden><div class=\"sk-item\"><div class=\"sk-estimator sk-toggleable\"><input class=\"sk-toggleable__control sk-hidden--visually\" id=\"sk-estimator-id-2\" type=\"checkbox\" checked><label for=\"sk-estimator-id-2\" class=\"sk-toggleable__label sk-toggleable__label-arrow\">NMF</label><div class=\"sk-toggleable__content\"><pre>NMF(n_components=20, random_state=42, verbose=2)</pre></div></div></div></div></div>"
      ],
      "text/plain": [
       "NMF(n_components=20, random_state=42, verbose=2)"
      ]
     },
     "execution_count": 14,
     "metadata": {},
     "output_type": "execute_result"
    }
   ],
   "source": [
    "nmf.fit(dtm)"
   ]
  },
  {
   "cell_type": "markdown",
   "metadata": {},
   "source": [
    "#### TASK: Print our the top 15 most common words for each of the 20 topics."
   ]
  },
  {
   "cell_type": "code",
   "execution_count": 15,
   "metadata": {},
   "outputs": [
    {
     "name": "stdout",
     "output_type": "stream",
     "text": [
      "THE TOP 15 WORDS FOR TOPIC #0\n",
      "['app', 'engineering', 'friend', 'website', 'site', 'thing', 'read', 'place', 'visit', 'places', 'phone', 'buy', 'laptop', 'movie', 'ways', '2016', 'books', 'book', 'movies', 'best']\n",
      "\n",
      "\n",
      "THE TOP 15 WORDS FOR TOPIC #1\n",
      "['come', 'relationship', 'says', 'universities', 'grads', 'majors', 'recruit', 'sex', 'looking', 'differ', 'use', 'exist', 'really', 'compare', 'cost', 'long', 'feel', 'work', 'mean', 'does']\n",
      "\n",
      "\n",
      "THE TOP 15 WORDS FOR TOPIC #2\n",
      "['users', 'writer', 'marked', 'search', 'use', 'add', 'answered', 'needing', 'post', 'easily', 'improvement', 'delete', 'asked', 'google', 'answers', 'answer', 'ask', 'question', 'questions', 'quora']\n",
      "\n",
      "\n",
      "THE TOP 15 WORDS FOR TOPIC #3\n",
      "['com', 'facebook', 'job', 'easiest', 'making', 'using', 'website', 'investment', 'friends', 'black', 'internet', 'free', 'home', 'easy', 'youtube', 'ways', 'earn', 'online', 'make', 'money']\n",
      "\n",
      "\n",
      "THE TOP 15 WORDS FOR TOPIC #4\n",
      "['embarrassing', 'decision', 'biggest', 'work', 'did', 'balance', 'earth', 'day', 'death', 'changed', 'live', 'want', 'change', 'moment', 'real', 'important', 'thing', 'meaning', 'purpose', 'life']\n",
      "\n",
      "\n",
      "THE TOP 15 WORDS FOR TOPIC #5\n",
      "['start', 'demonetization', 'scope', 'buy', 'prime', 'reservation', 'engineering', 'minister', 'president', 'company', 'china', 'business', 'country', 'olympics', 'available', 'job', 'spotify', 'war', 'pakistan', 'india']\n",
      "\n",
      "\n",
      "THE TOP 15 WORDS FOR TOPIC #6\n",
      "['machine', 'web', 'beginner', 'coding', 'computer', 'beginners', 'online', 'english', 'book', 'did', 'hacking', 'want', 'python', 'languages', 'java', 'learning', 'start', 'language', 'programming', 'learn']\n",
      "\n",
      "\n",
      "THE TOP 15 WORDS FOR TOPIC #7\n",
      "['students', 'usa', 'wins', 'elections', 'america', 'happen', 'presidency', 'think', 'presidential', '2016', 'vote', 'better', 'election', 'did', 'win', 'hillary', 'president', 'clinton', 'donald', 'trump']\n",
      "\n",
      "\n",
      "THE TOP 15 WORDS FOR TOPIC #8\n",
      "['thing', 'imminent', 'going', 'likely', 'live', 'russia', 'business', 'win', 'coming', 'countries', 'place', 'pakistan', 'happen', 'end', 'country', 'iii', 'start', 'did', 'war', 'world']\n",
      "\n",
      "\n",
      "THE TOP 15 WORDS FOR TOPIC #9\n",
      "['friend', 'tell', 'corporate', 'different', 'guys', 'indian', 'companies', 'don', 'guy', 'men', 'culture', 'women', 'work', 'girls', 'live', 'girl', 'look', 'sex', 'feel', 'like']\n",
      "\n",
      "\n",
      "THE TOP 15 WORDS FOR TOPIC #10\n",
      "['installation', 'panel', 'solar', 'provider', 'balance', 'ca', 'departments', 'positions', 'movies', 'songs', 'business', 'read', 'start', 'job', 'work', 'engineering', 'ways', 'bad', 'books', 'good']\n",
      "\n",
      "\n",
      "THE TOP 15 WORDS FOR TOPIC #11\n",
      "['corruption', 'help', 'decision', 'rupees', '2000', 'money', 'modi', 'currency', 'economy', 'think', 'government', 'ban', 'banning', 'black', 'indian', 'rupee', 'rs', '1000', 'notes', '500']\n",
      "\n",
      "\n",
      "THE TOP 15 WORDS FOR TOPIC #12\n",
      "['facebook', 'account', 'instagram', 'old', 'want', 'blowing', 'resolutions', 'resolution', 'mind', 'likes', 'girl', '2017', 'year', 'don', 'employees', 'going', 'day', 'things', 'new', 'know']\n",
      "\n",
      "\n",
      "THE TOP 15 WORDS FOR TOPIC #13\n",
      "['word', 'specifically', 'words', 'vocabulary', 'ability', 'aspects', 'fluent', 'skill', 'spoken', 'ways', 'language', 'fluently', 'speak', 'communication', 'pronunciation', 'speaking', 'writing', 'skills', 'improve', 'english']\n",
      "\n",
      "\n",
      "THE TOP 15 WORDS FOR TOPIC #14\n",
      "['losing', 'loose', 'plan', 'doing', 'belly', 'diet', 'help', 'healthy', 'exercise', 'month', 'pounds', 'reduce', 'quickly', 'loss', 'fast', 'fat', 'ways', 'gain', 'lose', 'weight']\n",
      "\n",
      "\n",
      "THE TOP 15 WORDS FOR TOPIC #15\n",
      "['years', 'change', 'stop', 'visitors', 'real', 'having', 'feel', 'long', 'spend', 'did', 'person', 'machine', 'movies', 'favorite', 'job', 'home', 'sex', 'possible', 'travel', 'time']\n",
      "\n",
      "\n",
      "THE TOP 15 WORDS FOR TOPIC #16\n",
      "['man', 'falling', 'boyfriend', 'parents', 'doesn', 'marriage', 'make', 'did', 'girlfriend', 'feel', 'tell', 'forget', 'really', 'friend', 'true', 'know', 'person', 'girl', 'fall', 'love']\n",
      "\n",
      "\n",
      "THE TOP 15 WORDS FOR TOPIC #17\n",
      "['start', 'traffic', 'stop', 'reduce', 'rid', 'easy', 'hack', 'prepare', 'quickest', 'facebook', 'increase', 'painless', 'instagram', 'account', 'best', 'commit', 'fastest', 'suicide', 'easiest', 'way']\n",
      "\n",
      "\n",
      "THE TOP 15 WORDS FOR TOPIC #18\n",
      "['business', 'android', 'company', 'learning', 'chinese', 'web', 'java', 'scripting', 'phone', 'mechanical', 'better', 'job', 'use', 'account', 'data', 'software', 'science', 'computer', 'engineering', 'difference']\n",
      "\n",
      "\n",
      "THE TOP 15 WORDS FOR TOPIC #19\n",
      "['want', 'say', 'instagram', 'care', 'chinese', 'earth', 'blowing', 'stop', 'use', 'easily', 'mind', 'google', 'flat', 'questions', 'hate', 'believe', 'ask', 'don', 'think', 'people']\n",
      "\n",
      "\n"
     ]
    }
   ],
   "source": [
    "for i, topic in enumerate(nmf.components_):\n",
    "    print(f\"THE TOP 15 WORDS FOR TOPIC #{i}\")\n",
    "    print([tfidf.get_feature_names_out()[index] for index in topic.argsort()[-20:]])\n",
    "    print('\\n')"
   ]
  },
  {
   "cell_type": "markdown",
   "metadata": {},
   "source": [
    "#### TASK: Add a new column to the original quora dataframe that labels each question into one of the 20 topic categories."
   ]
  },
  {
   "cell_type": "code",
   "execution_count": 17,
   "metadata": {},
   "outputs": [
    {
     "data": {
      "text/html": [
       "<div>\n",
       "<style scoped>\n",
       "    .dataframe tbody tr th:only-of-type {\n",
       "        vertical-align: middle;\n",
       "    }\n",
       "\n",
       "    .dataframe tbody tr th {\n",
       "        vertical-align: top;\n",
       "    }\n",
       "\n",
       "    .dataframe thead th {\n",
       "        text-align: right;\n",
       "    }\n",
       "</style>\n",
       "<table border=\"1\" class=\"dataframe\">\n",
       "  <thead>\n",
       "    <tr style=\"text-align: right;\">\n",
       "      <th></th>\n",
       "      <th>Question</th>\n",
       "    </tr>\n",
       "  </thead>\n",
       "  <tbody>\n",
       "    <tr>\n",
       "      <th>0</th>\n",
       "      <td>What is the step by step guide to invest in sh...</td>\n",
       "    </tr>\n",
       "    <tr>\n",
       "      <th>1</th>\n",
       "      <td>What is the story of Kohinoor (Koh-i-Noor) Dia...</td>\n",
       "    </tr>\n",
       "    <tr>\n",
       "      <th>2</th>\n",
       "      <td>How can I increase the speed of my internet co...</td>\n",
       "    </tr>\n",
       "    <tr>\n",
       "      <th>3</th>\n",
       "      <td>Why am I mentally very lonely? How can I solve...</td>\n",
       "    </tr>\n",
       "    <tr>\n",
       "      <th>4</th>\n",
       "      <td>Which one dissolve in water quikly sugar, salt...</td>\n",
       "    </tr>\n",
       "  </tbody>\n",
       "</table>\n",
       "</div>"
      ],
      "text/plain": [
       "                                            Question\n",
       "0  What is the step by step guide to invest in sh...\n",
       "1  What is the story of Kohinoor (Koh-i-Noor) Dia...\n",
       "2  How can I increase the speed of my internet co...\n",
       "3  Why am I mentally very lonely? How can I solve...\n",
       "4  Which one dissolve in water quikly sugar, salt..."
      ]
     },
     "execution_count": 17,
     "metadata": {},
     "output_type": "execute_result"
    }
   ],
   "source": [
    "df.head()"
   ]
  },
  {
   "cell_type": "code",
   "execution_count": 21,
   "metadata": {},
   "outputs": [
    {
     "name": "stdout",
     "output_type": "stream",
     "text": [
      "violation: 1.0\n",
      "violation: 0.05887240054619892\n",
      "violation: 0.0007845889142260214\n",
      "violation: 1.242689080219805e-05\n",
      "Converged at iteration 5\n"
     ]
    }
   ],
   "source": [
    "topic_res = nmf.transform(dtm)"
   ]
  },
  {
   "cell_type": "code",
   "execution_count": 24,
   "metadata": {},
   "outputs": [
    {
     "data": {
      "text/html": [
       "<div>\n",
       "<style scoped>\n",
       "    .dataframe tbody tr th:only-of-type {\n",
       "        vertical-align: middle;\n",
       "    }\n",
       "\n",
       "    .dataframe tbody tr th {\n",
       "        vertical-align: top;\n",
       "    }\n",
       "\n",
       "    .dataframe thead th {\n",
       "        text-align: right;\n",
       "    }\n",
       "</style>\n",
       "<table border=\"1\" class=\"dataframe\">\n",
       "  <thead>\n",
       "    <tr style=\"text-align: right;\">\n",
       "      <th></th>\n",
       "      <th>Question</th>\n",
       "      <th>Topic</th>\n",
       "    </tr>\n",
       "  </thead>\n",
       "  <tbody>\n",
       "    <tr>\n",
       "      <th>0</th>\n",
       "      <td>What is the step by step guide to invest in sh...</td>\n",
       "      <td>5</td>\n",
       "    </tr>\n",
       "    <tr>\n",
       "      <th>1</th>\n",
       "      <td>What is the story of Kohinoor (Koh-i-Noor) Dia...</td>\n",
       "      <td>16</td>\n",
       "    </tr>\n",
       "    <tr>\n",
       "      <th>2</th>\n",
       "      <td>How can I increase the speed of my internet co...</td>\n",
       "      <td>17</td>\n",
       "    </tr>\n",
       "    <tr>\n",
       "      <th>3</th>\n",
       "      <td>Why am I mentally very lonely? How can I solve...</td>\n",
       "      <td>11</td>\n",
       "    </tr>\n",
       "    <tr>\n",
       "      <th>4</th>\n",
       "      <td>Which one dissolve in water quikly sugar, salt...</td>\n",
       "      <td>14</td>\n",
       "    </tr>\n",
       "  </tbody>\n",
       "</table>\n",
       "</div>"
      ],
      "text/plain": [
       "                                            Question  Topic\n",
       "0  What is the step by step guide to invest in sh...      5\n",
       "1  What is the story of Kohinoor (Koh-i-Noor) Dia...     16\n",
       "2  How can I increase the speed of my internet co...     17\n",
       "3  Why am I mentally very lonely? How can I solve...     11\n",
       "4  Which one dissolve in water quikly sugar, salt...     14"
      ]
     },
     "execution_count": 24,
     "metadata": {},
     "output_type": "execute_result"
    }
   ],
   "source": [
    "df['Topic'] = topic_res.argmax(axis=1)\n",
    "df.head()"
   ]
  },
  {
   "cell_type": "markdown",
   "metadata": {},
   "source": [
    "# Great job!"
   ]
  }
 ],
 "metadata": {
  "kernelspec": {
   "display_name": "Python 3 (ipykernel)",
   "language": "python",
   "name": "python3"
  },
  "language_info": {
   "codemirror_mode": {
    "name": "ipython",
    "version": 3
   },
   "file_extension": ".py",
   "mimetype": "text/x-python",
   "name": "python",
   "nbconvert_exporter": "python",
   "pygments_lexer": "ipython3",
   "version": "3.11.3"
  }
 },
 "nbformat": 4,
 "nbformat_minor": 2
}
